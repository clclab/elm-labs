{
 "cells": [
  {
   "cell_type": "markdown",
   "metadata": {
    "id": "9zom_Y0LNO1N"
   },
   "source": [
    "# Evolution & phylogenetic reconstruction\n",
    "\n",
    "*Written by Bastiaan van der Weij and Dieuwke Hupkes.\\\n",
    "Updated by Bas Cornelissen, Peter Dekker and Marianne de Heer Kloots.*\n",
    "\n",
    "In this computer lab you will experiment with simulated evolution and phylogenetic reconstruction: the reconstruction of the evolutionary history of species, simulated genes, and even language and music.\n",
    "\n",
    "The lab contains <font color=\"orange\"><b>Code</b></font> questions, where you need to enter some code to compute or simulate something yourself, and <font color=\"green\"><b>Think</b></font> questions, which check your understanding of what is happening.\n",
    "\n",
    "Some notes on using this notebook: \n",
    "\n",
    "- You should run all the code cells in this notebook, either by clicking the 'play button' that appears once you hover over them (in Google Colab) or by pressing Shift+Enter from inside each cell. Make sure you don't miss any! Once a cell has completed running, a number will appear between the [square brackets] to the left of the cell.\n",
    "- You may run a cell multiple times (for example to check how the output changes). \n",
    "- In principle, you could also run a previous cell again after you've run the cells below it. However, this might be a bad idea, and cause you trouble once you try to run new code further down the line again. If this happens and you run into strange errors, you can always try to restart the notebook (Ctrl+M or _Runtime > Restart runtime_ in the menu) and carefully run each cell from top to bottom again.\n",
    "- To see an overview of the entire computer lab, and easily navigate between sections, open the _Table of contents_ tab to the left (first icon in the navigation bar)."
   ]
  },
  {
   "cell_type": "markdown",
   "metadata": {
    "id": "YAxUpIfCN7XC"
   },
   "source": [
    "## 0. Getting started with R\n",
    "We assume you have some basic understanding of\n",
    "programming and R. You will not have to write a lot of code yourself,\n",
    "but you should be able to read and run the scripts that we provide you\n",
    "with. If you have never seen any R code before, it might be useful for\n",
    "you to work through a tutorial, such as the first three pages of [this\n",
    "tutorial by Bart de\n",
    "Boer](http://projects.illc.uva.nl/LaCo/CLAS/clc13/assignments/deboer13rtutorial.pdf).\n",
    "Of course, you can always ask us for help if you are stuck on a\n",
    "particular piece of code!"
   ]
  },
  {
   "cell_type": "markdown",
   "metadata": {
    "id": "Jg7EghAEOa--"
   },
   "source": [
    "### Installing packages\n",
    "This cell installs and loads some external packages that we will need throughout the computer lab. It may take a few minutes to run!"
   ]
  },
  {
   "cell_type": "code",
   "execution_count": null,
   "metadata": {
    "vscode": {
     "languageId": "r"
    }
   },
   "outputs": [],
   "source": [
    "# list of packages to install\n",
    "to_install <- c(\"stringr\", \"ape\", \"phangorn\", \"plotly\")\n",
    "\n",
    "# create writable library for the packages\n",
    "if (!file.exists(\"library\")){\n",
    "    dir.create(\"library\")\n",
    "}\n",
    "\n",
    "# install packages to the library\n",
    "if (!all(file.exists(paste('library/', to_install, sep=\"\")))){\n",
    "    to_install <- to_install[!file.exists(paste('library/', to_install, sep=\"\"))]\n",
    "    install.packages(to_install, \"library/\")\n",
    "}\n",
    "\n",
    "# tell R where the library is\n",
    ".libPaths('library/')\n",
    "\n",
    "# load packages from the library\n",
    "library(stringr)\n",
    "library(ape)\n",
    "library(phangorn)\n",
    "library(plotly)"
   ]
  },
  {
   "cell_type": "markdown",
   "metadata": {},
   "source": [
    "### Downloading dataset\n",
    "This cell downloads a dataset that we have preprocessed for you, to use in [section 5](#5.-Phylogenetic-reconstruction-of-languages) of this computer lab."
   ]
  },
  {
   "cell_type": "code",
   "execution_count": null,
   "metadata": {
    "vscode": {
     "languageId": "r"
    }
   },
   "outputs": [],
   "source": [
    "if (!file.exists(\"data\")){\n",
    "    dir.create(\"data\")\n",
    "}\n",
    "if (!file.exists(\"data/language_data.Rdata\")){\n",
    "    download.file(\"https://github.com/clclab/elm-labs/raw/main/book/language_data.Rdata\", \n",
    "              \"data/language_data.Rdata\", mode=\"wb\")\n",
    "}"
   ]
  },
  {
   "cell_type": "markdown",
   "metadata": {
    "id": "456xa0h2O7Oi"
   },
   "source": [
    "### Auxiliary functions\n",
    "The code below defines some of our own functions and variables that we will use throughout this computer lab. Run the cell so they are loaded; afterwards, you can collapse the cell and directly [skip to the first section](#1.-Simulated-evolution) for now. But if you want to examine these functions more closely later on, you can go back to this cell (and expand it) to do so."
   ]
  },
  {
   "cell_type": "code",
   "execution_count": 3,
   "metadata": {
    "id": "Y_20_hlaQmLf",
    "jupyter": {
     "source_hidden": true
    },
    "vscode": {
     "languageId": "r"
    }
   },
   "outputs": [],
   "source": [
    "# alphabet\n",
    "alphabet <- c(\"A\",\"G\",\"U\",\"C\")\n",
    "\n",
    "# target matrices if fixed target is used\n",
    "target_R <- matrix(c(1,0,0,0,1,0,0,0,1),3,3)\n",
    "target_S <- matrix(c(1,0,0,0,1,0,0,0,1),3,3)\n",
    "target_agent = list(R=target_R, S=target_S)\n",
    "\n",
    "CAC_count <- function(population) {\n",
    "  # fitness function based on number of\n",
    "  # occurences of substring CAC\n",
    "  fitness <- rep(0,population_size)\n",
    "  for (i in 1:population_size) {\n",
    "    population_member <- paste(population[i,], collapse='')\n",
    "    fitness[i] <- str_count(population_member, \"CAC\")\n",
    "  }\n",
    "  return(fitness)\n",
    "}\n",
    "\n",
    "# Mutation function\n",
    "\n",
    "mutation_matrix <- matrix(rep(1/3,16),4,4)\n",
    "diag(mutation_matrix) <- 0\n",
    "\n",
    "mutate_population_fast <- function(population) {\n",
    "  # choose number of elements to change\n",
    "  N_change <- rbinom(1, genome_size*population_size, prob=mu)\n",
    "  \n",
    "  # generate indices of elements to change\n",
    "  indices <- sample(genome_size*population_size, size=N_change)\n",
    "  \n",
    "  # change elements\n",
    "  for (index in indices) {\n",
    "    row <- ceiling(index/genome_size)\n",
    "    column <- index %% genome_size + 1\n",
    "    distr <- mutation_matrix[match(population[row, column], alphabet),]\n",
    "    population[row, column] <- sample(alphabet, size=1, prob=distr)\n",
    "  }\n",
    "  \n",
    "  return(population)\n",
    "}\n",
    "\n",
    "population <- c(rep(1,10))\n",
    "for (i in 1:10) {\n",
    "  population[i] <- paste(sample(c(\"A\",\"G\",\"C\",\"U\"),size=18, replace=TRUE), collapse=\"\")\n",
    "}\n",
    "\n",
    "\n",
    "## Auxiliary functions for phylogenetic trees\n",
    "\n",
    "compute_diversity <- function(population) {\n",
    "  return(nrow(unique(population)))\n",
    "}\n",
    "\n",
    "# construct a tree from a population using a parent matrix\n",
    "reconstruct_tree <- function(parent_matrix) {\n",
    "  D <- nrow(parent_matrix)    # maximum depth tree\n",
    "  N <- ncol(parent_matrix)    # population size\n",
    "  N_cur <- N                  # cur population size\n",
    "  cur_depth <- 0              # cur depth tree\n",
    "  \n",
    "  children_indices <- seq(1,N,1)\n",
    "  children <- as.character(seq(1,N,1))\n",
    "  \n",
    "  while (N_cur > 1 && cur_depth < D) {\n",
    "    # while (cur_depth < D) {\n",
    "    # create an empty list of population size to group children\n",
    "    # under the right parent (index)\n",
    "    parents <- vector(\"list\",N)\n",
    "    has_children <- rep(0,N)\n",
    "    \n",
    "    # loop over the children by looping over their indices\n",
    "    child_index <- 1\n",
    "    for (child in children_indices) {\n",
    "      parent <- parent_matrix[D-cur_depth,child]  # find index of parent in prev generation\n",
    "      child <- children[[child_index]]            # get child from array\n",
    "      cur_children_parent <- parents[[parent]]    # check if parent already is assigned children\n",
    "      cur_number_children <- has_children[parent] # check number of children for parent\n",
    "      \n",
    "      # assign child to parent\n",
    "      if (cur_number_children == 0 && cur_depth > 0) {        # first child, child is already a tree\n",
    "        parents[[parent]] <- children[[child_index]]\n",
    "      } else if (cur_number_children == 0) {                  # first child, child is leaf node\n",
    "        parents[[parent]] <- list(children[child_index])\n",
    "      } else if (cur_depth == 0) {                            # not first child, child is leaf node\n",
    "        parents[[parent]][[cur_number_children+1]] <- child\n",
    "      } else if (cur_number_children == 1) {                  # second child, child is already a tree, children is not yet a list\n",
    "        parents[[parent]] <- list(cur_children_parent, child)\n",
    "      } else {                                                # third or more child\n",
    "        parents[[parent]][[cur_number_children+1]] <- child\n",
    "      }\n",
    "      \n",
    "      has_children[parent] <- has_children[parent] + 1        # increase children for parent\n",
    "      \n",
    "      child_index <- child_index + 1\n",
    "    }\n",
    "    nulls <- sapply(parents, FUN=is.null)       # check which prev population members didn't have children\n",
    "    children_indices <- seq(1,N,1)[!nulls]   # get the indices of the parents, set children to them\n",
    "    children <- parents[!nulls]\n",
    "    N_cur <- length(children_indices)\n",
    "    cur_depth <- cur_depth + 1\n",
    "  }\n",
    "  if (N_cur > 1) {\n",
    "    print(\"Disconnected tree\")\n",
    "  } else {\n",
    "    return(children)\n",
    "  }\n",
    "}\n",
    "\n",
    "# print a nested_list in newick-format\n",
    "print_tree <- function(nested_list) {\n",
    "  str_repr <- paste(capture.output(dput(nested_list)),collapse='')\n",
    "  str_repr <- gsub(\"[\\r\\n]\",\"\",str_repr)\n",
    "  str_repr <- gsub('\\\"',\"\",str_repr)\n",
    "  str_repr <- gsub('list',\"\",str_repr)\n",
    "  str_repr <- paste(str_repr, \";\")\n",
    "  str_repr <- gsub(' ',\"\",str_repr)\n",
    "  return(str_repr)\n",
    "}\n",
    "\n",
    "# plot tree\n",
    "plot_tree <- function(tree) {\n",
    "  cat(print_tree(tree), file=\"tree.nwk\", sep=\"\\n\")\n",
    "  tree_sim <- read.tree(\"tree.nwk\")\n",
    "  plot(tree_sim, cex=0.45)\n",
    "}\n",
    "\n",
    "# print connections in the parent matrix\n",
    "print_parent_matrix <- function(parent_matrix) {\n",
    "  height <- nrow(parent_matrix); width <- ncol(parent_matrix)\n",
    "  N <- (height)*width\n",
    "  x_from <- rep(seq(1,width,1),times=height)\n",
    "  y_from <- rep(seq(1,height,1),each=width)\n",
    "  y_to <- rep(seq(2,height+1,1),each=width)\n",
    "  x_to <- rep(0,N)\n",
    "  counter <- 1;\n",
    "  for (population in height:1) {\n",
    "    for (individual in 1:width) {\n",
    "      x_to[counter] <- parent_matrix[population,individual] \n",
    "      counter <- counter+1\n",
    "    }\n",
    "  }\n",
    "  par(mfrow=c(1,1))\n",
    "  plot(width, height+2, xlim=c(1,width), ylim=c(0,height+2), type=\"n\", yaxt=\"n\", xaxt=\"n\", \n",
    "       xlab=\"population member\", ylab=\"generation\")\n",
    "  axis(1, at=c(1:10))\n",
    "  segments(x_from, y_from, x_to, y_to)\n",
    "  points(c(x_from, x_to), c(y_from, y_to), pch=19)\n",
    "}\n",
    "\n",
    "# compute distance matrix\n",
    "compute_distance_matrix <- function(population) {\n",
    "  N <- nrow(population)\n",
    "  dm <- matrix(rep(0,N*N),N,N)\n",
    "  for (i in 1:(N-1)) {\n",
    "    for (j in (i+1):N) {\n",
    "      agent1 <- population[i,]\n",
    "      agent2 <- population[j,]\n",
    "      dm[j,i] <- compute_distance(agent1, agent2)\n",
    "    }\n",
    "  }\n",
    "  colnames(dm) <- as.character(seq(1,N))\n",
    "  rownames(dm) <- as.character(seq(1,N))\n",
    "  dm <- as.dist(dm,diag=FALSE,upper=FALSE)\n",
    "  return(dm)\n",
    "}\n",
    "\n",
    "# compute normalised hamming distance between two strings\n",
    "compute_distance <- function(agent1, agent2) {\n",
    "  l <- length(agent1)\n",
    "  helper <- rep(0,l)\n",
    "  d <- length(helper[!agent1 == agent2])/l\n",
    "  return(d)\n",
    "}"
   ]
  },
  {
   "cell_type": "markdown",
   "metadata": {
    "id": "1UhDb29vRW2m"
   },
   "source": [
    "## 1. Simulated evolution\n",
    "\n",
    "The goals of this section are:\n",
    "\n",
    "-   to better understand the concepts of genotype, genotype space,\n",
    "    fitness, fitness landscape, selection, mutation, selection-mutation\n",
    "    balance, frequency dependent selection;\n",
    "\n",
    "-   to see how these concepts can be formalised in a computer program;\n",
    "\n",
    "-   to appreciate both the power and the limits of natural selection.\n"
   ]
  },
  {
   "cell_type": "markdown",
   "metadata": {
    "id": "Yvg9YWCKR39T"
   },
   "source": [
    "### 1.1 Creating a population\n",
    "In the first part of this computer lab, we will use R to simulate the evolution of (DNA) strings under a particular fitness function. We will represent DNA strings (the genotype) as a sequence of the letters ‘A’, ‘G’, ‘C’ and ‘U’. In R, you can generate a random sequence of 10 of these letters using the following command:\n",
    "\n",
    "```r\n",
    "sample(c('A','G','C','U'), size=10, replace=TRUE)\n",
    "```\n",
    "\n",
    "To store the output in a variable (for instance x), you type:\n",
    "\n",
    "```r\n",
    "x <- sample(c('A','G','C','U'), size=10, replace=TRUE)\n",
    "```\n",
    "You can then view the contents of a particular variable by printing it. \n",
    "\n",
    "Let’s try this, by running the cell below:"
   ]
  },
  {
   "cell_type": "code",
   "execution_count": 4,
   "metadata": {
    "colab": {
     "base_uri": "https://localhost:8080/"
    },
    "id": "OSXTAYPamNn9",
    "outputId": "d62dbe24-51d8-41da-d9a0-665c25f919cb",
    "vscode": {
     "languageId": "r"
    }
   },
   "outputs": [
    {
     "name": "stdout",
     "output_type": "stream",
     "text": [
      " [1] \"C\" \"C\" \"A\" \"C\" \"C\" \"U\" \"G\" \"U\" \"G\" \"U\"\n"
     ]
    }
   ],
   "source": [
    "x <- sample(c('A','G','C','U'), size=10, replace=TRUE)\n",
    "print(x)"
   ]
  },
  {
   "cell_type": "markdown",
   "metadata": {
    "id": "QwJ_Y1OKUW0q"
   },
   "source": [
    "#### **Exercise 1: Creating a genotype**\n",
    "- First, use the cell above to generate a few random sequences of length 10 containing the characters 'A', 'G', 'C' and 'U', and confirm that it does what we want it to do.\n",
    "- <font color=\"orange\"><b>Code:</b></font> In the code cell below, generate a random sequence of length 50 containing the characters 'A', 'G', 'C' and 'U'.\n",
    "- <font color=\"green\"><b>Think:</b></font> The set of all possible sequences is called the _genotype space_. How big is this space? I.e., how many genotype strings are possible with our representation?\n",
    "\n",
    "(Note that R ignores everything that follows the character #. In programming terms, these texts are called _comments_.) "
   ]
  },
  {
   "cell_type": "code",
   "execution_count": 4,
   "metadata": {
    "id": "WCaECS0VUVUC",
    "vscode": {
     "languageId": "r"
    }
   },
   "outputs": [],
   "source": [
    " ### YOUR CODE HERE ###\n",
    " "
   ]
  },
  {
   "cell_type": "markdown",
   "metadata": {
    "id": "tobW84P3Wia4"
   },
   "source": [
    "> [ Your answer here ]"
   ]
  },
  {
   "cell_type": "markdown",
   "metadata": {
    "id": "wihmy-OrW_hM"
   },
   "source": [
    "#### **Exercise 2: Creating the population**\n",
    "Now, let’s create a _population_ of DNA strings. To do this, we will make 100 genotype strings. We will store our population in a matrix (the _population matrix_), where each member of our population is represented as a row of the matrix. \n",
    "\n",
    "The command `matrix(x, height, width)` command transforms a vector `x` into a matrix with height `height` and width `width`.\n",
    "\n",
    "Let’s start with creating a matrix filled with zero’s that we can later fill:"
   ]
  },
  {
   "cell_type": "code",
   "execution_count": 5,
   "metadata": {
    "id": "r3op2rAORofW",
    "vscode": {
     "languageId": "r"
    }
   },
   "outputs": [],
   "source": [
    "population <- matrix(rep(0, 100), 100, 50)"
   ]
  },
  {
   "cell_type": "markdown",
   "metadata": {
    "id": "kC2tBuFt_DqL"
   },
   "source": [
    "- <font color=\"green\"><b>Think:</b></font> So what do we find in column 30 of our population matrix, and what does this number mean?"
   ]
  },
  {
   "cell_type": "markdown",
   "metadata": {
    "id": "DLPzgK_q_JRt"
   },
   "source": [
    "> [ Your answer here ]"
   ]
  },
  {
   "cell_type": "markdown",
   "metadata": {
    "id": "KysNfb1J_QNl"
   },
   "source": [
    "`population[,j]` accesses the `j`th column of the matrix `population`. \n",
    "\n",
    "`population[i,]` accesses the `i`th _row_ of the matrix `population`, which in our case corresponds with the `i`th member of our population.\n",
    "\n",
    "We fill our matrix by generating 100 population members in a for-loop and filling the matrix with them:"
   ]
  },
  {
   "cell_type": "code",
   "execution_count": 6,
   "metadata": {
    "id": "a1LXUko---SA",
    "vscode": {
     "languageId": "r"
    }
   },
   "outputs": [],
   "source": [
    "population_size <- 100\n",
    "for (i in 1:population_size) {\n",
    "    population[i,] <- sample(c('A','G','C','U'),\n",
    "      size=50, replace=TRUE)\n",
    "}"
   ]
  },
  {
   "cell_type": "markdown",
   "metadata": {
    "id": "CixmPELuANEV"
   },
   "source": [
    "### 1.2 Defining a fitness function\n",
    "Now we need to define a fitness function that computes the fitness of\n",
    "the individual members of our population. Imagine, for instance, that\n",
    "the string 'CAC' codes for some very useful aminoacid. The more CAC's in\n",
    "the genome, the higher the expected number of offspring. In our\n",
    "simulation of evolution, let's define the fitness as the number of times\n",
    "the substring 'CAC' appears in the genotype string (without overlap, so\n",
    "the string 'CACAC' contains *one* copy of 'CAC').\n",
    "\n",
    "To keep track of the fitness of *all* members in our population (which\n",
    "are represented as rows in the population matrix), we create a *vector*\n",
    "where each element of the vector represents the fitness value for one\n",
    "member of the population."
   ]
  },
  {
   "cell_type": "markdown",
   "metadata": {
    "id": "YiJeGXMGAwoO"
   },
   "source": [
    "#### **Exercise 3: Compute each member's fitness value**\n",
    "\n",
    "We generate an empty vector to store the fitness values, and call it `fitness`:"
   ]
  },
  {
   "cell_type": "code",
   "execution_count": 7,
   "metadata": {
    "id": "LVhY5sBSAMtx",
    "vscode": {
     "languageId": "r"
    }
   },
   "outputs": [],
   "source": [
    "fitness <- rep(0, population_size)"
   ]
  },
  {
   "cell_type": "markdown",
   "metadata": {
    "id": "m07pMIzhF4Ee"
   },
   "source": [
    "Now, we use a for-loop to fill the vector (created by the code above) with the fitness values:"
   ]
  },
  {
   "cell_type": "code",
   "execution_count": 8,
   "metadata": {
    "id": "x1Wasmjt_ynw",
    "vscode": {
     "languageId": "r"
    }
   },
   "outputs": [],
   "source": [
    "# loop over population size\n",
    "for (i in 1:population_size) {      \n",
    "  # generate string representation\n",
    "  member <- paste(population[i,], collapse='') \n",
    "  \n",
    "  # compute fitness member   \n",
    "  fitness_member <- str_count(member, \"CAC\")   \n",
    "  \n",
    "  # store in fitness vector\n",
    "  fitness[i] <- fitness_member\n",
    "}"
   ]
  },
  {
   "cell_type": "markdown",
   "metadata": {
    "id": "XZx89m6GF-sZ"
   },
   "source": [
    "- <font color=\"green\"><b>Think:</b></font> What is the highest possible fitness a member of this population can have?\n",
    "- <font color=\"orange\"><b>Code:</b></font> Compute the mean fitness of your population, by using `mean(fitness)` in the code cell below and storing the result to a new variable `av_fitness`. What is the average fitness of your population?"
   ]
  },
  {
   "cell_type": "markdown",
   "metadata": {
    "id": "nVk0ecNGGo6Q"
   },
   "source": [
    "> [ Your answer here ]"
   ]
  },
  {
   "cell_type": "code",
   "execution_count": 9,
   "metadata": {
    "id": "U7AY3ByYGrIi",
    "vscode": {
     "languageId": "r"
    }
   },
   "outputs": [],
   "source": [
    "### YOUR CODE HERE ###\n"
   ]
  },
  {
   "cell_type": "markdown",
   "metadata": {
    "id": "0Vl5XduOHB8w"
   },
   "source": [
    "### 1.3 Implementing selection\n",
    "Now we will generate the next generation. We assume that each member of the next generation inherits the genome of one of the members of the previous generation. The probability of inheriting each genome is proportional to the genome’s fitness: a child is most likely to inherit the genome of the fittest member of the previous population. This simulates selection."
   ]
  },
  {
   "cell_type": "markdown",
   "metadata": {
    "id": "VAYoTr2PIUpt"
   },
   "source": [
    "#### **Exercise 4: A new population**"
   ]
  },
  {
   "cell_type": "markdown",
   "metadata": {
    "id": "DX_nbAv0HaXs"
   },
   "source": [
    "We generate 100 new children, using the built-in function `sample` (the same one we used before). We first draw 100 random numbers between 1 and 100 (repetitions possible), and store them in the variable `indices`. The likelihood of being drawn depends on a member's fitness: if population member 2 has a very high fitness, it will have a very high chance of being drawn. Then we use the drawn numbers to create a new population of the members corresponding to the numbers."
   ]
  },
  {
   "cell_type": "code",
   "execution_count": 9,
   "metadata": {
    "id": "DOzeUEAwHD1i",
    "vscode": {
     "languageId": "r"
    }
   },
   "outputs": [],
   "source": [
    "indices <- sample(100, size=100, replace=TRUE, \n",
    "                prob=fitness/sum(fitness))\n",
    "new_population <- population[indices,]"
   ]
  },
  {
   "cell_type": "markdown",
   "metadata": {
    "id": "Yp6apv_zImHE"
   },
   "source": [
    "- <font color=\"green\"><b>Think:</b></font> If one population member has fitness 10 and all the other population members have fitness 1, what is the probability that a child will inherit its genome from this one population member? What do you expect to happen with the population?"
   ]
  },
  {
   "cell_type": "markdown",
   "metadata": {
    "id": "YwKbjSsOIpKX"
   },
   "source": [
    "> [ Your answer here ]"
   ]
  },
  {
   "cell_type": "markdown",
   "metadata": {
    "id": "4x_4McIvOD1r"
   },
   "source": [
    "#### **Exercise 5: Population fitness over generations**\n",
    "\n",
    "To simulate the evolution of the population, we want to repeat this process several times and plot the average fitness over time. The cell below defines the functions `generate_population` and `simulate_evolution`, which allow us to do this easily."
   ]
  },
  {
   "cell_type": "code",
   "execution_count": 10,
   "metadata": {
    "id": "W9UqUzEnI9CG",
    "vscode": {
     "languageId": "r"
    }
   },
   "outputs": [],
   "source": [
    "# Function to generate new population\n",
    "generate_population <-  function(population_size, genome_size) {\n",
    "    # generate initial population with random strings\n",
    "    population <- matrix(rep(0,population_size*genome_size), population_size, genome_size)\n",
    "    for (i in 1:population_size) {\n",
    "        new_member <- sample(c('A','G','C','U'), size=genome_size, replace=TRUE)\n",
    "        population[i,] <- new_member\n",
    "    }\n",
    "\n",
    "    return(population)\n",
    "}\n",
    "\n",
    "# Function to simulate evolution\n",
    "simulate_evolution <- function(population) {\n",
    "\n",
    "    # compute fitness\n",
    "    fitness <- CAC_count(population)\n",
    "\n",
    "    av_fitness <- rep(0, simulation_length)\n",
    "    av_fitness[1] <- mean(fitness)\n",
    "\n",
    "    # simulate evolution\n",
    "    for (j in 2:simulation_length) {\n",
    "\n",
    "        # generate children by sampling from the population according to fitness\n",
    "        population_children <- population[sample(population_size, size=population_size, replace=TRUE, prob=fitness/sum(fitness)),]\n",
    "\n",
    "        # mutate children\n",
    "        population <- mutate_population_fast(population_children)\n",
    "\n",
    "        # recompute fitness\n",
    "        fitness <- CAC_count(population)\n",
    "\n",
    "        # add to list with average fitness\n",
    "        av_fitness[j] <- mean(fitness)\n",
    "    }\n",
    "\n",
    "    # plot average fitness\n",
    "    ymax <- av_fitness[simulation_length]+2\n",
    "    generation <- seq(1,simulation_length,1)\n",
    "    par(mfrow=c(1,1))\n",
    "    plot(generation, av_fitness, type=\"l\", ann=FALSE, ylim=c(0,ymax))\n",
    "    title(main=\"Average population fitness\", xlab=\"Generation\", ylab=\"Fitness\")\n",
    "\n",
    "    return(population)\n",
    "}"
   ]
  },
  {
   "cell_type": "markdown",
   "metadata": {
    "id": "WELBIrxXOkAj"
   },
   "source": [
    "Now, we can run a simulation with our desired settings. Try it out with the cell below (you can ignore the parameter `mu` for now, we will get to it very soon)."
   ]
  },
  {
   "cell_type": "code",
   "execution_count": 11,
   "metadata": {
    "colab": {
     "base_uri": "https://localhost:8080/",
     "height": 437
    },
    "id": "t-wLJBmWNySM",
    "outputId": "45e411ac-0928-4fe0-f3a9-10ed56c4ded6",
    "vscode": {
     "languageId": "r"
    }
   },
   "outputs": [
    {
     "data": {
      "image/png": "[encoded data removed]",
      "text/plain": [
       "Plot with title \"Average population fitness\""
      ]
     },
     "metadata": {
      "image/png": {
       "height": 420,
       "width": 420
      }
     },
     "output_type": "display_data"
    }
   ],
   "source": [
    "# parameters of the simulation\n",
    "population_size\t<- 100\n",
    "genome_size <- 50\n",
    "simulation_length\t<- 100\n",
    "mu <- 0\n",
    "\n",
    "# Generate population and simulate evolution\n",
    "population <- generate_population(population_size, genome_size)\n",
    "population <- simulate_evolution(population)"
   ]
  },
  {
   "cell_type": "markdown",
   "metadata": {
    "id": "SD9U12rLPB-I"
   },
   "source": [
    "- <font color=\"green\"><b>Think:</b></font> You will notice the fitness stops increasing quite early in the simulation. Why is this?\n"
   ]
  },
  {
   "cell_type": "markdown",
   "metadata": {
    "id": "q4APeayGPJNY"
   },
   "source": [
    "> [ Your answer here ]"
   ]
  },
  {
   "cell_type": "markdown",
   "metadata": {
    "id": "UGS6TG1OPaBG"
   },
   "source": [
    "### 1.4 Evolution with mutation\n",
    "In the previous simulation, we looked at selection _without_ mutation. Let’s now look at the case where every child’s nucleotide has a probability $\\mu$ to change into a random other nucleotide."
   ]
  },
  {
   "cell_type": "markdown",
   "metadata": {
    "id": "hnLMIpvlQumq"
   },
   "source": [
    "#### **Exercise 6: Mu-tating genomes**\n",
    "- <font color=\"green\"><b>Think:</b></font> If $\\mu = 0.01$, what is the chance that no changes occur in a genome? What is the chance that no changes occur in an entire population? And if $\\mu = 0.001$ ?"
   ]
  },
  {
   "cell_type": "markdown",
   "metadata": {
    "id": "ndicMuzqTDvM"
   },
   "source": [
    "> [ Your answer here ]"
   ]
  },
  {
   "cell_type": "markdown",
   "metadata": {
    "id": "c2vekMHPTEMI"
   },
   "source": [
    "- <font color=\"orange\"><b>Code:</b></font> In the first code cell below, copy-paste the code from the last code cell above, but change the mutation level to $\\mu = 0.001$. Also adapt the length of the simulation to 1000 generations. Then run the cell to see the results.\n",
    "- <font color=\"orange\"><b>Code:</b></font> In the second code cell below, repeat the simulation again, but now with $\\mu = 0.01$, and compare the two plots. This shows the mutation-selection balance."
   ]
  },
  {
   "cell_type": "code",
   "execution_count": 12,
   "metadata": {
    "id": "G2R0_seXPAca",
    "vscode": {
     "languageId": "r"
    }
   },
   "outputs": [],
   "source": [
    "### YOUR CODE HERE ###\n"
   ]
  },
  {
   "cell_type": "code",
   "execution_count": 13,
   "metadata": {
    "id": "jBeRbl_oPTye",
    "vscode": {
     "languageId": "r"
    }
   },
   "outputs": [],
   "source": [
    "### YOUR CODE HERE ###\n"
   ]
  },
  {
   "cell_type": "markdown",
   "metadata": {
    "id": "fzVOcV1eTHLJ"
   },
   "source": [
    "- <font color=\"green\"><b>Think:</b></font> In the simulation with relatively high mutation rate, why does the fitness stop increasing at a slightly lower level?"
   ]
  },
  {
   "cell_type": "markdown",
   "metadata": {
    "id": "5yTruPD-TMyi"
   },
   "source": [
    "> [ Your answer here ]"
   ]
  },
  {
   "cell_type": "markdown",
   "metadata": {
    "id": "WRdeCwBHUL6C"
   },
   "source": [
    "## 2. Simulated evolution with ancestry\n",
    "In the previous section we implemented computer simulations of evolution\n",
    "in R. In this section, we extend this simulation, and think about the\n",
    "patterns of genetic variation that the evolutionary process leaves in a\n",
    "population. We look at methods for *phylogenetic tree reconstruction*.\n",
    "These methods use the genetic variation in the most recent (current)\n",
    "generation to reconstruct the evolutionary history of a population or a\n",
    "set of species. \n",
    "\n",
    "We use a simple _clustering algorithm_ for\n",
    "phylogenetic tree reconstruction. An algorithm is a description of a series of steps to do arrive at a certain end result or perform a calculation. In this case, the computer performs the steps for us.\n",
    "\n",
    "The goal of this section is to learn about the possibilities and\n",
    "difficulties that are involved in phylogenetic tree reconstruction."
   ]
  },
  {
   "cell_type": "markdown",
   "metadata": {
    "id": "HY1mKfO1U_xM"
   },
   "source": [
    "### 2.1 Tracking ancestry\n",
    "So far, we have simulated the evolution of strings of symbols, and looked at the effect of different fitness functions. Now we will repeat this simulation, but during the evolutionary process we will keep track of ancestry, so that we can reconstruct family trees of different individuals. We will start with a very simple simulation. \n",
    "\n",
    "The functions `generate_population` and `simulate_evolution_ancestry` in the code cell below allow us to run the same simulation as above, but now also generating a matrix `parent_matrix`. This matrix specifies the parent of each member in each generation (where the parent is the individual of the previous generation whose genetic material was inherited). "
   ]
  },
  {
   "cell_type": "code",
   "execution_count": 14,
   "metadata": {
    "id": "kjW9VXQVUEqA",
    "vscode": {
     "languageId": "r"
    }
   },
   "outputs": [],
   "source": [
    "# Function to generate new population\n",
    "generate_population <-  function(population_size, genome_size) {\n",
    "    # generate initial population with random strings\n",
    "    population <- matrix(sample(c('A','G','C','U'), size=genome_size*population_size, replace=TRUE), population_size, genome_size)\n",
    "    return(population)\n",
    "}\n",
    "\n",
    "# Function to simulate evolution with ancestry\n",
    "simulate_evolution_ancestry <- function(population) {\n",
    "\n",
    "    # initialise\n",
    "    back_pointers = matrix(rep(0,population_size*(simulation_length-1)), simulation_length-1, population_size) \n",
    "\n",
    "    # compute fitness and population diversity\n",
    "    fitness <- CAC_count(population)\n",
    "\n",
    "    av_fitness <- rep(0, simulation_length)\n",
    "    av_fitness[1] <- mean(fitness)\n",
    "\n",
    "    diversity <- rep(0, simulation_length)\n",
    "    diversity[1] <- compute_diversity(population)\n",
    "\n",
    "    # simulate evolution\n",
    "    for (j in 2:simulation_length) {\n",
    "\n",
    "        # generate children. \n",
    "        indices_children <- sample(population_size, size=population_size, replace=TRUE, prob=fitness/sum(fitness))\n",
    "        population_children <- population[indices_children,]\n",
    "        back_pointers[j-1,] <- indices_children\n",
    "\n",
    "        # mutation childrn\n",
    "        population <- mutate_population_fast(population_children)\n",
    "\n",
    "        # recompute fitness\n",
    "        fitness <- CAC_count(population)\n",
    "\n",
    "        # store current fitness and diversity\n",
    "        av_fitness[j] <- mean(fitness)\n",
    "        diversity[j] <- compute_diversity(population)\n",
    "    }\n",
    "\n",
    "    # plot average fitness and population diversity\n",
    "    par(mfrow=c(1,2))\n",
    "    ymax <- av_fitness[simulation_length]+2\n",
    "    generation <- seq(1,simulation_length,1)\n",
    "    plot(generation, av_fitness, type=\"l\",ann=FALSE, ylim=c(0,ymax))\n",
    "    title(main=\"Average population fitness\", xlab=\"Generation\", ylab=\"Fitness\")\n",
    "    plot(generation, diversity, type=\"l\",ann=FALSE,ylim=c(0,population_size))\n",
    "    title(main=\"Population diversity\", xlab=\"Generation\", ylab=\"Number of distinct phenotypes\")\n",
    "\n",
    "    results <- list(population=population,parent_matrix=back_pointers)\n",
    "    par(mfrow=c(1,1))\n",
    "    return(results)\n",
    "}"
   ]
  },
  {
   "cell_type": "markdown",
   "metadata": {
    "id": "cGOZaj4HXzY7"
   },
   "source": [
    "With the code cell below, we can run the simulation with our desired settings. At the end of the simulation, we see a plot with the average population fitness and a plot with the diversity of the population over generations."
   ]
  },
  {
   "cell_type": "code",
   "execution_count": 15,
   "metadata": {
    "colab": {
     "base_uri": "https://localhost:8080/",
     "height": 437
    },
    "id": "SRRG7iubVr3F",
    "outputId": "b1efe0c0-6df1-45f2-a967-d8ea8d6ba925",
    "vscode": {
     "languageId": "r"
    }
   },
   "outputs": [
    {
     "data": {
      "image/png": "[encoded data removed]",
      "text/plain": [
       "Plot with title \"Population diversity\""
      ]
     },
     "metadata": {
      "image/png": {
       "height": 420,
       "width": 420
      }
     },
     "output_type": "display_data"
    }
   ],
   "source": [
    "# parameters of simulation\n",
    "population_size <- 10\n",
    "genome_size <- 50\n",
    "simulation_length\t<- 10\n",
    "mu <- 0.005\n",
    "\n",
    "# Generate population and simulate evolution\n",
    "population <- generate_population(population_size, genome_size)\n",
    "results <- simulate_evolution_ancestry(population)\n",
    "population <- results$population\n",
    "parent_matrix <- results$parent_matrix"
   ]
  },
  {
   "cell_type": "markdown",
   "metadata": {
    "id": "mjnd2Q2nZzFZ"
   },
   "source": [
    "#### **Exercise 7: Finding the ancestors**\n",
    "Visualise the parent matrix by running the code cell below:"
   ]
  },
  {
   "cell_type": "code",
   "execution_count": 16,
   "metadata": {
    "colab": {
     "base_uri": "https://localhost:8080/",
     "height": 437
    },
    "id": "KnKUBoxtXMxy",
    "outputId": "1a519beb-7c20-4df7-993f-19358313e7a8",
    "vscode": {
     "languageId": "r"
    }
   },
   "outputs": [
    {
     "data": {
      "image/png": "[encoded data removed]",
      "text/plain": [
       "plot without title"
      ]
     },
     "metadata": {
      "image/png": {
       "height": 420,
       "width": 420
      }
     },
     "output_type": "display_data"
    }
   ],
   "source": [
    "print_parent_matrix(parent_matrix)"
   ]
  },
  {
   "cell_type": "markdown",
   "metadata": {
    "id": "HW_m67xYaYwy"
   },
   "source": [
    "- <font color=\"green\"><b>Think:</b></font> Where in this plot can you find the first generation? \n",
    "- <font color=\"green\"><b>Think:</b></font> Follow some paths up and down. Why do downward paths often end in dead ends, whereas upward paths always go all the way up?"
   ]
  },
  {
   "cell_type": "markdown",
   "metadata": {
    "id": "dy_ERkEYagOo"
   },
   "source": [
    "> [ Your answers here ]"
   ]
  },
  {
   "cell_type": "markdown",
   "metadata": {
    "id": "5mDZB_2iavLW"
   },
   "source": [
    "### 2.2 Plotting the family tree\n",
    "Printing the parent matrix for large simulations (with big populations and many generations) is not very helpful, because the network is too dense to properly visualise (you may try if you want). \n",
    "\n",
    "Rather than looking the parent matrix, we will use the parent matrix to reconstruct a _family tree_ for only the last generation. That is, we only look at the members of previous generations whose offspring appears in the last generation. We will then generate a visual representation of the tree."
   ]
  },
  {
   "cell_type": "markdown",
   "metadata": {
    "id": "CEROPrI3bdWP"
   },
   "source": [
    "#### **Exercise 8: Ancestors in a tree**\n"
   ]
  },
  {
   "cell_type": "markdown",
   "metadata": {
    "id": "bdZs5uLDbdMp"
   },
   "source": [
    "- <font color=\"orange\"><b>Code:</b></font> In the code cell below, copy-paste the code for running the simulation with ancestry (the one above exercise 7, which generates the two plots). Now, set the `population_size` parameter to 100 and the `simulation_length` parameter to 1000, and run the simulation."
   ]
  },
  {
   "cell_type": "code",
   "execution_count": 19,
   "metadata": {
    "colab": {
     "base_uri": "https://localhost:8080/",
     "height": 437
    },
    "id": "9ejYpmgjXdl-",
    "outputId": "44cf7e15-027c-4314-84b7-c745c9baa617",
    "vscode": {
     "languageId": "r"
    }
   },
   "outputs": [
    {
     "data": {
      "image/png": "[encoded data removed]",
      "text/plain": [
       "Plot with title \"Population diversity\""
      ]
     },
     "metadata": {
      "image/png": {
       "height": 420,
       "width": 420
      }
     },
     "output_type": "display_data"
    }
   ],
   "source": [
    "### YOUR CODE HERE ###\n"
   ]
  },
  {
   "cell_type": "markdown",
   "metadata": {
    "id": "zwUE8wJ3dS0L"
   },
   "source": [
    "<font color=\"orange\"><b>Code/Do:</b></font> Now, run the cell below to visualize the phylogenetic tree for the data you just generated."
   ]
  },
  {
   "cell_type": "code",
   "execution_count": 20,
   "metadata": {
    "colab": {
     "base_uri": "https://localhost:8080/",
     "height": 437
    },
    "id": "OFb5z_MacnKW",
    "outputId": "544f8d78-4f06-4369-d28a-61ba7bd18afd",
    "vscode": {
     "languageId": "r"
    }
   },
   "outputs": [
    {
     "data": {
      "image/png": "[encoded data removed]",
      "text/plain": [
       "plot without title"
      ]
     },
     "metadata": {
      "image/png": {
       "height": 420,
       "width": 420
      }
     },
     "output_type": "display_data"
    }
   ],
   "source": [
    "tree <- reconstruct_tree(parent_matrix)\n",
    "plot_tree(tree)"
   ]
  },
  {
   "cell_type": "markdown",
   "metadata": {
    "id": "DJdosEeVlEfy"
   },
   "source": [
    "Note: if the plot above is a bit hard to read, you can also generate a textual representation of the phylogenetic tree (this is called the 'Newick string') by running `print_tree(tree)` in the code cell below. From the result, copy everything between quotation marks (but exclude the two quotation marks themselves). Then, go to to [icytree.org](https://icytree.org/) and click _File > Enter tree directly..._ Paste the textual representation you’ve just copied and click _Done_. Save the generated tree (_File > Export tree as... > PNG image_), and insert the image in the cell below."
   ]
  },
  {
   "cell_type": "code",
   "execution_count": 21,
   "metadata": {
    "colab": {
     "base_uri": "https://localhost:8080/",
     "height": 69
    },
    "id": "ZQi3mlJolapj",
    "outputId": "0ff7ffca-53eb-4d54-b647-fac11ccc011f",
    "vscode": {
     "languageId": "r"
    }
   },
   "outputs": [
    {
     "data": {
      "text/html": [
       "'(((((((84,93),(61)),((43,57),(((36),(21,64),(28,56,82,91)),(83),(14)))),(((18,60),(31,90)),((11,40),(20,45)))),((15),(47,55,69))),((((73,99),((27,38),(51))),((((22,70,87,89,92),((46),(58),(75))),(((67),(19)),(95,100))),((((32),(((59),((50),(6,62))),((8),(5)))),(49)),((37),(3))))),((((((33),(88)),(94)),((68,77),((79),(2)))),(((((16,24),(26)),((23,35,78),(9))),((29,71),((96),((98),(97))))),((((((44,53,66,76,86),(34,81)),((72),(85))),((25),(4,74))),((((10),(12,63)),((41,48),(7,39))),(80))),((54,65),(1),(30))))),((13),((17,52),(42)))))));'"
      ],
      "text/latex": [
       "'(((((((84,93),(61)),((43,57),(((36),(21,64),(28,56,82,91)),(83),(14)))),(((18,60),(31,90)),((11,40),(20,45)))),((15),(47,55,69))),((((73,99),((27,38),(51))),((((22,70,87,89,92),((46),(58),(75))),(((67),(19)),(95,100))),((((32),(((59),((50),(6,62))),((8),(5)))),(49)),((37),(3))))),((((((33),(88)),(94)),((68,77),((79),(2)))),(((((16,24),(26)),((23,35,78),(9))),((29,71),((96),((98),(97))))),((((((44,53,66,76,86),(34,81)),((72),(85))),((25),(4,74))),((((10),(12,63)),((41,48),(7,39))),(80))),((54,65),(1),(30))))),((13),((17,52),(42)))))));'"
      ],
      "text/markdown": [
       "'(((((((84,93),(61)),((43,57),(((36),(21,64),(28,56,82,91)),(83),(14)))),(((18,60),(31,90)),((11,40),(20,45)))),((15),(47,55,69))),((((73,99),((27,38),(51))),((((22,70,87,89,92),((46),(58),(75))),(((67),(19)),(95,100))),((((32),(((59),((50),(6,62))),((8),(5)))),(49)),((37),(3))))),((((((33),(88)),(94)),((68,77),((79),(2)))),(((((16,24),(26)),((23,35,78),(9))),((29,71),((96),((98),(97))))),((((((44,53,66,76,86),(34,81)),((72),(85))),((25),(4,74))),((((10),(12,63)),((41,48),(7,39))),(80))),((54,65),(1),(30))))),((13),((17,52),(42)))))));'"
      ],
      "text/plain": [
       "[1] \"(((((((84,93),(61)),((43,57),(((36),(21,64),(28,56,82,91)),(83),(14)))),(((18,60),(31,90)),((11,40),(20,45)))),((15),(47,55,69))),((((73,99),((27,38),(51))),((((22,70,87,89,92),((46),(58),(75))),(((67),(19)),(95,100))),((((32),(((59),((50),(6,62))),((8),(5)))),(49)),((37),(3))))),((((((33),(88)),(94)),((68,77),((79),(2)))),(((((16,24),(26)),((23,35,78),(9))),((29,71),((96),((98),(97))))),((((((44,53,66,76,86),(34,81)),((72),(85))),((25),(4,74))),((((10),(12,63)),((41,48),(7,39))),(80))),((54,65),(1),(30))))),((13),((17,52),(42)))))));\""
      ]
     },
     "metadata": {},
     "output_type": "display_data"
    }
   ],
   "source": [
    "print_tree(tree)"
   ]
  },
  {
   "cell_type": "markdown",
   "metadata": {
    "id": "MHc6KxQqevYy"
   },
   "source": [
    "> [ Your phylogenetic tree here ]"
   ]
  },
  {
   "cell_type": "markdown",
   "metadata": {
    "id": "9mUaHYpPez-5"
   },
   "source": [
    "- <font color=\"green\"><b>Think:</b></font> As far as you can judge, how many generations ago did the LCA of the current population live?\n",
    "- <font color=\"green\"><b>Think:</b></font> Which aspects of evolution leave traces that we can detect in the current generation, and which aspects do not?"
   ]
  },
  {
   "cell_type": "markdown",
   "metadata": {
    "id": "odqVbxEHe9QC"
   },
   "source": [
    "> [ Your answers here ]"
   ]
  },
  {
   "cell_type": "markdown",
   "metadata": {
    "id": "0k-Q86RJfV9t"
   },
   "source": [
    "## 3. Phylogenetic reconstruction of biological data\n",
    "In evolutionary research, the elaborate ancestry information represented by the parent matrix is usually not available. To reconstruct family trees we have to resort to different methods. Information about when species branched off (‘speciated’) can be deduced from genetic variation in the current population. For instance, horses are genetically more similar to donkeys than to, say, frogs. So, the last common ancestor of horses and frogs most likely lived much further in the past than the last common ancestor of horses and donkeys. In other words, the branch that would eventually evolve into frogs split off from the branch that would eventually evolve into horses earlier than the branch that would eventually evolve into donkeys. This type of analysis is called phylogenetic reconstruction. It’s based on genetic similarity between members of the current generation, which we measure using a _distance measure_."
   ]
  },
  {
   "cell_type": "markdown",
   "metadata": {
    "id": "7yhU4mRBfkdH"
   },
   "source": [
    "The `phangorn` package (that we installed and loaded in the first code cell of this notebook) comes with a dataset that contains real genetic data (i.e., RNA samples) from many different species. \n",
    "\n",
    "Run the following code cell to load that dataset:"
   ]
  },
  {
   "cell_type": "code",
   "execution_count": 22,
   "metadata": {
    "id": "bF0fn98FctLh",
    "vscode": {
     "languageId": "r"
    }
   },
   "outputs": [],
   "source": [
    "data(Laurasiatherian)"
   ]
  },
  {
   "cell_type": "markdown",
   "metadata": {
    "id": "0i9owljof3oT"
   },
   "source": [
    "With the code cell below, you can print a summary of the data:"
   ]
  },
  {
   "cell_type": "code",
   "execution_count": 23,
   "metadata": {
    "colab": {
     "base_uri": "https://localhost:8080/"
    },
    "id": "Jfx1Qey0fzt1",
    "outputId": "e6ebbff4-d265-4a3f-b014-c1b2ecc2afcc",
    "vscode": {
     "languageId": "r"
    }
   },
   "outputs": [
    {
     "name": "stdout",
     "output_type": "stream",
     "text": [
      "List of 47\n",
      " $ Platypus  : int [1:1605] 4 1 1 1 3 3 4 4 4 3 ...\n",
      " $ Wallaroo  : int [1:1605] 2 1 1 1 3 3 4 4 4 3 ...\n",
      " $ Possum    : int [1:1605] 2 1 1 1 3 3 4 4 4 3 ...\n",
      " $ Bandicoot : int [1:1605] 2 1 1 1 3 3 4 4 4 3 ...\n",
      " $ Opposum   : int [1:1605] 2 1 4 1 3 3 4 4 4 3 ...\n",
      " $ Armadillo : int [1:1605] 2 1 2 1 3 3 4 2 4 3 ...\n",
      " $ Elephant  : int [1:1605] 2 1 1 1 3 3 4 4 4 3 ...\n",
      " $ Aardvark  : int [1:1605] 4 1 1 1 3 3 4 4 4 3 ...\n",
      " $ Tenrec    : int [1:1605] 4 1 1 1 3 3 4 4 4 3 ...\n",
      " $ Hedghog   : int [1:1605] 1 4 1 1 3 3 4 2 4 3 ...\n",
      " $ Gymnure   : int [1:1605] 1 1 1 1 3 3 4 2 4 3 ...\n",
      " $ Mole      : int [1:1605] 1 1 1 1 3 3 4 4 4 3 ...\n",
      " $ Shrew     : int [1:1605] 4 1 1 1 3 3 4 4 4 3 ...\n",
      " $ Rbat      : int [1:1605] 2 1 4 1 3 3 2 4 4 2 ...\n",
      " $ FlyingFox : int [1:1605] 2 1 1 1 3 3 4 4 4 3 ...\n",
      " $ RyFlyFox  : int [1:1605] 4 1 1 1 3 3 4 4 4 3 ...\n",
      " $ FruitBat  : int [1:1605] 4 1 4 1 3 3 4 4 4 3 ...\n",
      " $ LongTBat  : int [1:1605] 2 1 4 1 3 3 4 4 4 3 ...\n",
      " $ Horse     : int [1:1605] 2 1 4 1 3 3 2 4 4 3 ...\n",
      " $ Donkey    : int [1:1605] 2 1 4 1 3 3 2 4 4 3 ...\n",
      " $ WhiteRhino: int [1:1605] 2 1 1 1 3 3 4 4 4 3 ...\n",
      " $ IndianRhin: int [1:1605] 2 1 4 1 3 3 4 4 4 3 ...\n",
      " $ Pig       : int [1:1605] 2 1 2 1 3 3 4 4 4 3 ...\n",
      " $ Alpaca    : int [1:1605] 2 1 2 1 3 3 4 4 4 1 ...\n",
      " $ Cow       : int [1:1605] 2 1 4 1 3 3 4 4 4 3 ...\n",
      " $ Sheep     : int [1:1605] 4 1 4 1 3 3 4 4 4 3 ...\n",
      " $ Hippo     : int [1:1605] 4 1 2 1 3 3 4 4 4 3 ...\n",
      " $ FinWhale  : int [1:1605] 4 1 1 1 3 3 4 4 4 3 ...\n",
      " $ BlueWhale : int [1:1605] 4 1 1 1 3 3 4 4 4 3 ...\n",
      " $ SpermWhale: int [1:1605] 2 1 1 1 3 3 4 4 4 3 ...\n",
      " $ Rabbit    : int [1:1605] 4 1 1 1 3 3 4 4 4 3 ...\n",
      " $ Pika      : int [1:1605] 1 1 4 1 3 3 4 4 4 3 ...\n",
      " $ Squirrel  : int [1:1605] 2 1 4 1 3 3 4 4 4 3 ...\n",
      " $ Dormouse  : int [1:1605] 2 1 1 1 3 3 4 4 4 3 ...\n",
      " $ GuineaPig : int [1:1605] 2 1 1 1 3 3 4 4 4 3 ...\n",
      " $ Mouse     : int [1:1605] 2 1 1 1 3 3 4 4 4 3 ...\n",
      " $ Vole      : int [1:1605] 1 1 1 1 3 3 4 4 4 3 ...\n",
      " $ CaneRat   : int [1:1605] 2 1 1 1 4 3 4 4 4 3 ...\n",
      " $ Baboon    : int [1:1605] 1 1 4 1 3 3 2 4 4 3 ...\n",
      " $ Human     : int [1:1605] 1 1 4 1 3 3 4 4 4 3 ...\n",
      " $ Loris     : int [1:1605] 2 1 2 1 3 3 4 4 4 3 ...\n",
      " $ Cebus     : int [1:1605] 2 1 2 1 3 3 4 4 4 3 ...\n",
      " $ Cat       : int [1:1605] 2 1 1 1 3 3 4 4 4 3 ...\n",
      " $ Dog       : int [1:1605] 4 1 1 1 3 3 4 4 4 3 ...\n",
      " $ HarbSeal  : int [1:1605] 2 1 1 1 3 3 4 4 4 3 ...\n",
      " $ FurSeal   : int [1:1605] 2 1 1 1 3 3 4 4 4 3 ...\n",
      " $ GraySeal  : int [1:1605] 2 1 1 1 3 3 4 4 4 3 ...\n",
      " - attr(*, \"class\")= chr \"phyDat\"\n",
      " - attr(*, \"weight\")= int [1:1605] 1 5 1 444 3 314 1 1 328 1 ...\n",
      " - attr(*, \"nr\")= int 1605\n",
      " - attr(*, \"nc\")= num 4\n",
      " - attr(*, \"index\")= int [1:3179] 1 2 3 4 5 6 7 8 9 6 ...\n",
      " - attr(*, \"levels\")= chr [1:4] \"a\" \"c\" \"g\" \"t\"\n",
      " - attr(*, \"allLevels\")= chr [1:18] \"a\" \"c\" \"g\" \"t\" ...\n",
      " - attr(*, \"type\")= chr \"DNA\"\n",
      " - attr(*, \"contrast\")= num [1:18, 1:4] 1 0 0 0 0 1 1 1 0 0 ...\n",
      "  ..- attr(*, \"dimnames\")=List of 2\n",
      "  .. ..$ : NULL\n",
      "  .. ..$ : chr [1:4] \"a\" \"c\" \"g\" \"t\"\n"
     ]
    }
   ],
   "source": [
    "str(Laurasiatherian)"
   ]
  },
  {
   "cell_type": "markdown",
   "metadata": {
    "id": "lelL8oCMgAM9"
   },
   "source": [
    "The data originates from the (now closed) Allan Wilson Centre in New Zealand. To find out more about this data, have a look at [their website](http://www.allanwilsoncentre.ac.nz/massey/learning/departments/centres-research/allan-wilson-centre/our-research/resources/software-and-supplementary-materials.cfm)."
   ]
  },
  {
   "cell_type": "markdown",
   "metadata": {
    "id": "gIEPsThdgIqg"
   },
   "source": [
    "We will try to reconstruct a phylogenetic tree for these species. That is, we will try to reconstruct when different species branched off from each other, based only on genetic information of the current population (the last generation). The first step is to measure ‘genetic distance’ between the genetic samples for each species. For simplicity, we assume that: \n",
    "1. all species ultimately originate from a single common ancestor (an uncontroversial assumption in evolutionary biology);\n",
    "2. species have diverged genetically by picking up mutations at a roughly constant rate (a more problematic assumption). \n",
    "\n",
    "(Try and convince yourself that the phylogenetic tree reconstruction method we described requires the second assumption — and that this assumption is problematic when considering evolution in the real world.)\n",
    "\n",
    "The distance between strings of DNA or RNA is typically measured by counting the number of mutations required to change one into the other. Because of the second assumption, the genetic distance between two species is proportional to the time that has passed since their last common ancestor."
   ]
  },
  {
   "cell_type": "markdown",
   "metadata": {
    "id": "HTD-t3N6mRix"
   },
   "source": [
    "#### **Exercise 9: Animal species distances**\n"
   ]
  },
  {
   "cell_type": "markdown",
   "metadata": {
    "id": "jjoAq3_MpB6W"
   },
   "source": [
    "<font color=\"orange\"><b>Code/Do:</b></font> Select five species from the Laurasiatherian dataset (for instance three that you think are closely related and two that are more distantly related). Create a subset of the data containing just these five species, by changing the numbers in the code cell below:"
   ]
  },
  {
   "cell_type": "code",
   "execution_count": 24,
   "metadata": {
    "id": "VUDsDk8mf8R8",
    "vscode": {
     "languageId": "r"
    }
   },
   "outputs": [],
   "source": [
    "mysubset <- subset(Laurasiatherian, subset=c(19,20,28,29,30))"
   ]
  },
  {
   "cell_type": "markdown",
   "metadata": {
    "id": "JuciNMHEpUne"
   },
   "source": [
    "The numbers correspond to the position of the species in the list printed by `str(Laurasiatherian)` above, i.e. Platypus = 1, Possum = 3, etc. ) You have to replace these numbers by the numbers corresponding to the species that you chose. Run the cell after you have done so. Then, verify that your subset contains the right species by running the following:"
   ]
  },
  {
   "cell_type": "code",
   "execution_count": 25,
   "metadata": {
    "colab": {
     "base_uri": "https://localhost:8080/"
    },
    "id": "0YJmSk1ypNjA",
    "outputId": "3456d039-334e-4400-f876-cc85c0d7e38b",
    "vscode": {
     "languageId": "r"
    }
   },
   "outputs": [
    {
     "name": "stdout",
     "output_type": "stream",
     "text": [
      "List of 5\n",
      " $ Horse     : int [1:1605] 2 1 4 1 3 3 2 4 4 3 ...\n",
      " $ Donkey    : int [1:1605] 2 1 4 1 3 3 2 4 4 3 ...\n",
      " $ FinWhale  : int [1:1605] 4 1 1 1 3 3 4 4 4 3 ...\n",
      " $ BlueWhale : int [1:1605] 4 1 1 1 3 3 4 4 4 3 ...\n",
      " $ SpermWhale: int [1:1605] 2 1 1 1 3 3 4 4 4 3 ...\n",
      " - attr(*, \"class\")= chr \"phyDat\"\n",
      " - attr(*, \"weight\")= int [1:1605] 1 5 1 444 3 314 1 1 328 1 ...\n",
      " - attr(*, \"nr\")= int 1605\n",
      " - attr(*, \"nc\")= num 4\n",
      " - attr(*, \"index\")= int [1:3179] 1 2 3 4 5 6 7 8 9 6 ...\n",
      " - attr(*, \"levels\")= chr [1:4] \"a\" \"c\" \"g\" \"t\"\n",
      " - attr(*, \"allLevels\")= chr [1:18] \"a\" \"c\" \"g\" \"t\" ...\n",
      " - attr(*, \"type\")= chr \"DNA\"\n",
      " - attr(*, \"contrast\")= num [1:18, 1:4] 1 0 0 0 0 1 1 1 0 0 ...\n",
      "  ..- attr(*, \"dimnames\")=List of 2\n",
      "  .. ..$ : NULL\n",
      "  .. ..$ : chr [1:4] \"a\" \"c\" \"g\" \"t\"\n"
     ]
    }
   ],
   "source": [
    "str(mysubset)"
   ]
  },
  {
   "cell_type": "markdown",
   "metadata": {
    "id": "01bWEmjup10A"
   },
   "source": [
    "Now, we compute the pairwise distance between all species in the subset using the function `dist.ml`. The results are stored in a _distance matrix_:"
   ]
  },
  {
   "cell_type": "code",
   "execution_count": 26,
   "metadata": {
    "colab": {
     "base_uri": "https://localhost:8080/"
    },
    "id": "aHD8hWXyp1Lq",
    "outputId": "e594b0c6-6e87-49fc-c3fb-fdcd017eb74d",
    "vscode": {
     "languageId": "r"
    }
   },
   "outputs": [
    {
     "name": "stdout",
     "output_type": "stream",
     "text": [
      "                Horse     Donkey   FinWhale  BlueWhale\n",
      "Donkey     0.01814797                                 \n",
      "FinWhale   0.11539023 0.11319215                      \n",
      "BlueWhale  0.11392413 0.11173034 0.02657412           \n",
      "SpermWhale 0.11502343 0.11796281 0.06811650 0.06777211\n"
     ]
    }
   ],
   "source": [
    "distance_matrix <- dist.ml(mysubset)\n",
    "print(distance_matrix)"
   ]
  },
  {
   "cell_type": "markdown",
   "metadata": {
    "id": "LUfIvPqKq5WX"
   },
   "source": [
    "- <font color=\"green\"><b>Think:</b></font> How can you read off the distance between two species from this matrix? Why are the numbers on the diagonal of this matrix zero?\n",
    "- <font color=\"green\"><b>Think:</b></font> Do the computed distances correspond to your intuitions about the selected species’ relatedness?"
   ]
  },
  {
   "cell_type": "markdown",
   "metadata": {
    "id": "Kp2Zn-iwq5PR"
   },
   "source": [
    "> [ Your answers here ]"
   ]
  },
  {
   "cell_type": "markdown",
   "metadata": {
    "id": "i4m6X9imrRa_"
   },
   "source": [
    "#### **Exercise 10: Animal species phylogeny**\n",
    "- <font color=\"green\"><b>Think/Do:</b></font> Using pen and paper, or your favourite drawing software, reconstruct a phylogenetic tree that describes the evolutionary relations between your selected species. Use the principles described earlier. You shouldn’t need to do any calculations."
   ]
  },
  {
   "cell_type": "markdown",
   "metadata": {
    "id": "UgYDMKChrcLV"
   },
   "source": [
    "> [ Your hand-drawn phylogenetic tree here ]"
   ]
  },
  {
   "cell_type": "markdown",
   "metadata": {
    "id": "zpzcuSgRrthD"
   },
   "source": [
    "## 4. Phylogenetic trees with hierarchical clustering"
   ]
  },
  {
   "cell_type": "markdown",
   "metadata": {
    "id": "cLN_ICo_r7G8"
   },
   "source": [
    "### 4.1 UPGMA\n",
    "We can use a simple method called ‘hierarchical clustering’ to build the phylogenetic trees such as in the previous sections automatically. Hierarchical clustering can be done with the UPGMA algorithm. (If you need a refresher on how exactly it worked, look up the UPGMA chapter from the readings again!) In short, UPGMA follows these steps:\n",
    "\n",
    "- Treat each datapoint (for example, a RNA sample of a species) as a separate “cluster” containing just one datapoint;\n",
    "- Compute the distances between all clusters (using some distance measure; for example, genetic distance);\n",
    "- Merge the two clusters that are nearest to each other into a new cluster;\n",
    "- Repeat steps 2 and 3 until only all datapoints are in cluster."
   ]
  },
  {
   "cell_type": "markdown",
   "metadata": {
    "id": "ZZZSvkLDsF7N"
   },
   "source": [
    "### 4.2 Constructing a tree\n",
    "To construct a phylogenetic tree, we can think of each merging of clusters as the joining of two branches. In the simplest version of this algorithm, we define ‘distance’ between a cluster A and a cluster B as the average distance between any datapoint in A and any datapoint in B — this is what UPGMA does. A slightly more complicated method, Ward’s clustering, uses the square root of the average of the squared point-to-point distances."
   ]
  },
  {
   "cell_type": "markdown",
   "metadata": {
    "id": "7bK341Bss09q"
   },
   "source": [
    "#### **Exercise 11: Animal species phylogeny, with UPGMA**\n",
    "- <font color=\"green\"><b>Think/Do:</b></font> Using the distances between species in `mysubset` (from the distance matrix you computed in the previous section), manually perform three cycles of the UPGMA algorithm with pen and paper."
   ]
  },
  {
   "cell_type": "markdown",
   "metadata": {
    "id": "DkqehEE3tFSG"
   },
   "source": [
    "> [ Your UPGMA steps here ]"
   ]
  },
  {
   "cell_type": "markdown",
   "metadata": {
    "id": "hI_M7V-6tRCZ"
   },
   "source": [
    "#### **Exercise 12: Animal phylogenetic tree, from UPGMA**\n",
    "Generate a phylogenetic tree for your subset and plot it using the code cell below:"
   ]
  },
  {
   "cell_type": "code",
   "execution_count": 27,
   "metadata": {
    "colab": {
     "base_uri": "https://localhost:8080/",
     "height": 437
    },
    "id": "usB32ERQsh9S",
    "outputId": "7be4004f-2369-47a4-f4e9-3246bc68b0cd",
    "vscode": {
     "languageId": "r"
    }
   },
   "outputs": [
    {
     "data": {
      "image/png": "[encoded data removed]",
      "text/plain": [
       "plot without title"
      ]
     },
     "metadata": {
      "image/png": {
       "height": 420,
       "width": 420
      }
     },
     "output_type": "display_data"
    }
   ],
   "source": [
    "tree <- upgma(distance_matrix, method='average')\n",
    "plot(tree, cex=0.65)"
   ]
  },
  {
   "cell_type": "markdown",
   "metadata": {
    "id": "cLmAJMnKt0zM"
   },
   "source": [
    "- <font color=\"green\"><b>Think:</b></font> Is the tree the same as the one that you created before with pen and paper?\n",
    "- <font color=\"orange\"><b>Code:</b></font> In the code cell below, create a tree for the entire dataset. To do this, you first need to compute the distance matrix for the entire dataset, and then run the upgma algorithm on it. \n",
    "- <font color=\"green\"><b>Think:</b></font> Does the generated tree agree with your expectations?"
   ]
  },
  {
   "cell_type": "code",
   "execution_count": 28,
   "metadata": {
    "colab": {
     "base_uri": "https://localhost:8080/",
     "height": 437
    },
    "id": "Z-gXVcKbucHy",
    "outputId": "92cf8d1d-a4fa-4813-89e2-d38602e8f26e",
    "vscode": {
     "languageId": "r"
    }
   },
   "outputs": [
    {
     "data": {
      "image/png": "[encoded data removed]",
      "text/plain": [
       "plot without title"
      ]
     },
     "metadata": {
      "image/png": {
       "height": 420,
       "width": 420
      }
     },
     "output_type": "display_data"
    }
   ],
   "source": [
    "### YOUR CODE HERE ###\n"
   ]
  },
  {
   "cell_type": "markdown",
   "metadata": {
    "id": "t6e0Vxy7vDjM"
   },
   "source": [
    "> [ Your answers here ]"
   ]
  },
  {
   "cell_type": "markdown",
   "metadata": {
    "id": "cKr5gDM1vMik"
   },
   "source": [
    "_Optional:_ Try different methods for computing the distance between clusters by changing the parameter `method` from `'average'` to something else (options are, for instance, `'ward.D'`, `'single'` and `'median'`). Do you notice any changes in the resulting phylogenetic trees?"
   ]
  },
  {
   "cell_type": "markdown",
   "metadata": {
    "id": "GY4zO7gmw1lm"
   },
   "source": [
    "#### **Exercise 13: Our simulated ancestors in a tree, with UPGMA**\n",
    "We will now investigate what happens if we perform phylogenetic analysis on the population resulting from our own simulated evolution. Remember that, since this is a simulation over which we have full control, we can reconstructed the actual phylogenetic tree using the information that we stored in the parent matrix."
   ]
  },
  {
   "cell_type": "markdown",
   "metadata": {
    "id": "oEknzB5KxFXU"
   },
   "source": [
    "Generate a distance matrix between the members of the last generation from your simulation, and reconstruct a phylogenetic tree with the `upgma` function (choose your preferred _method_, e.g. `ward.D`):"
   ]
  },
  {
   "cell_type": "code",
   "execution_count": 29,
   "metadata": {
    "colab": {
     "base_uri": "https://localhost:8080/",
     "height": 437
    },
    "id": "Q3Yqyno2tnI-",
    "outputId": "f31135c6-d17f-457a-98c3-1429d77e9fbe",
    "vscode": {
     "languageId": "r"
    }
   },
   "outputs": [
    {
     "data": {
      "image/png": "[encoded data removed]",
      "text/plain": [
       "plot without title"
      ]
     },
     "metadata": {
      "image/png": {
       "height": 420,
       "width": 420
      }
     },
     "output_type": "display_data"
    }
   ],
   "source": [
    "distance_matrix <- compute_distance_matrix(population)\n",
    "tree <- upgma(distance_matrix, method='ward.D')\n",
    "plot(tree, cex=0.4)"
   ]
  },
  {
   "cell_type": "markdown",
   "metadata": {
    "id": "fg3KJUU-wfIr"
   },
   "source": [
    "If the tree above is a bit hard to read again, use the cell below to print the Newick string that you can paste into [icytree.org](https://icytree.org/):"
   ]
  },
  {
   "cell_type": "code",
   "execution_count": 30,
   "metadata": {
    "colab": {
     "base_uri": "https://localhost:8080/",
     "height": 190
    },
    "id": "ZZi_08lWv4bS",
    "outputId": "0a148b1f-51fd-438f-dd61-d20c43fb0401",
    "vscode": {
     "languageId": "r"
    }
   },
   "outputs": [
    {
     "data": {
      "text/html": [
       "'(((15:0.03,(69:0,(47:0,55:0):0):0.03):0.5004195804,(((84:0.01666666667,(61:0.01,93:0.01):0.006666666667):0.08166666667,(60:0.01785714286,(40:0.01714285714,(90:0,(45:0,(31:0,(20:0,(11:0,18:0):0):0):0):0):0.01714285714):0.0007142857143):0.08047619048):0.1034848485,((43:0,57:0):0.1054545455,((91:0,(82:0,(28:0,56:0):0):0):0.048,(83:0.017,(36:0.015,(64:0,(14:0,21:0):0):0.015):0.002):0.031):0.05745454545):0.09636363636):0.3286013986):3.889839463,(((32:0.03688888889,((5:0.01,8:0.01):0.01396825397,(37:0.01714285714,(62:0,(59:0,(50:0,(49:0,(3:0,6:0):0):0):0):0):0.01714285714):0.006825396825):0.01292063492):0.4344139434,(((73:0,99:0):0.05333333333,(27:0.02666666667,(38:0,51:0):0.02666666667):0.02666666667):0.3608823529,(((19:0.01,67:0.01):0.04,(95:0.01,100:0.01):0.04):0.2041666667,((92:0,(89:0,(87:0,(22:0,70:0):0):0):0):0.05416666667,(75:0.03333333333,(46:0.02,58:0.02):0.01333333333):0.02083333333):0.2):0.1600490196):0.05708714597):1.075564887,((((41:0.01,48:0.01):0.02916666667,(80:0.01733333333,(10:0.016,(63:0,(39:0,(7:0,12:0):0):0):0.016):0.001333333333):0.02183333333):0.09541666667,((65:0.01833333333,(30:0.01666666667,(1:0.01,54:0.01):0.006666666667):0.001666666667):0.06125,(25:0.05575757576,((4:0.02,74:0.02):0.03313131313,((72:0.01,85:0.01):0.03206349206,((86:0,(76:0,(66:0,(44:0,53:0):0):0):0):0.03571428571,(34:0.01,81:0.01):0.02571428571):0.006349206349):0.01106782107):0.002626262626):0.02382575758):0.055):0.4232442954,(((24:0.01714285714,(78:0,(35:0,(26:0,(23:0,(9:0,16:0):0):0):0):0):0.01714285714):0.09604761905,(98:0.018,(97:0.01666666667,(96:0.01333333333,(29:0,71:0):0.01333333333):0.003333333333):0.001333333333):0.09519047619):0.2461837004,((13:0.05166666667,(42:0.01333333333,(17:0,52:0):0.01333333333):0.03833333333):0.2074891775,((94:0.02666666667,(33:0,88:0):0.02666666667):0.08523809524,((68:0,77:0):0.03,(2:0.02,79:0.02):0.01):0.0819047619):0.1472510823):0.1002183324):0.1984534522):0.98904009):2.873391325);'"
      ],
      "text/latex": [
       "'(((15:0.03,(69:0,(47:0,55:0):0):0.03):0.5004195804,(((84:0.01666666667,(61:0.01,93:0.01):0.006666666667):0.08166666667,(60:0.01785714286,(40:0.01714285714,(90:0,(45:0,(31:0,(20:0,(11:0,18:0):0):0):0):0):0.01714285714):0.0007142857143):0.08047619048):0.1034848485,((43:0,57:0):0.1054545455,((91:0,(82:0,(28:0,56:0):0):0):0.048,(83:0.017,(36:0.015,(64:0,(14:0,21:0):0):0.015):0.002):0.031):0.05745454545):0.09636363636):0.3286013986):3.889839463,(((32:0.03688888889,((5:0.01,8:0.01):0.01396825397,(37:0.01714285714,(62:0,(59:0,(50:0,(49:0,(3:0,6:0):0):0):0):0):0.01714285714):0.006825396825):0.01292063492):0.4344139434,(((73:0,99:0):0.05333333333,(27:0.02666666667,(38:0,51:0):0.02666666667):0.02666666667):0.3608823529,(((19:0.01,67:0.01):0.04,(95:0.01,100:0.01):0.04):0.2041666667,((92:0,(89:0,(87:0,(22:0,70:0):0):0):0):0.05416666667,(75:0.03333333333,(46:0.02,58:0.02):0.01333333333):0.02083333333):0.2):0.1600490196):0.05708714597):1.075564887,((((41:0.01,48:0.01):0.02916666667,(80:0.01733333333,(10:0.016,(63:0,(39:0,(7:0,12:0):0):0):0.016):0.001333333333):0.02183333333):0.09541666667,((65:0.01833333333,(30:0.01666666667,(1:0.01,54:0.01):0.006666666667):0.001666666667):0.06125,(25:0.05575757576,((4:0.02,74:0.02):0.03313131313,((72:0.01,85:0.01):0.03206349206,((86:0,(76:0,(66:0,(44:0,53:0):0):0):0):0.03571428571,(34:0.01,81:0.01):0.02571428571):0.006349206349):0.01106782107):0.002626262626):0.02382575758):0.055):0.4232442954,(((24:0.01714285714,(78:0,(35:0,(26:0,(23:0,(9:0,16:0):0):0):0):0):0.01714285714):0.09604761905,(98:0.018,(97:0.01666666667,(96:0.01333333333,(29:0,71:0):0.01333333333):0.003333333333):0.001333333333):0.09519047619):0.2461837004,((13:0.05166666667,(42:0.01333333333,(17:0,52:0):0.01333333333):0.03833333333):0.2074891775,((94:0.02666666667,(33:0,88:0):0.02666666667):0.08523809524,((68:0,77:0):0.03,(2:0.02,79:0.02):0.01):0.0819047619):0.1472510823):0.1002183324):0.1984534522):0.98904009):2.873391325);'"
      ],
      "text/markdown": [
       "'(((15:0.03,(69:0,(47:0,55:0):0):0.03):0.5004195804,(((84:0.01666666667,(61:0.01,93:0.01):0.006666666667):0.08166666667,(60:0.01785714286,(40:0.01714285714,(90:0,(45:0,(31:0,(20:0,(11:0,18:0):0):0):0):0):0.01714285714):0.0007142857143):0.08047619048):0.1034848485,((43:0,57:0):0.1054545455,((91:0,(82:0,(28:0,56:0):0):0):0.048,(83:0.017,(36:0.015,(64:0,(14:0,21:0):0):0.015):0.002):0.031):0.05745454545):0.09636363636):0.3286013986):3.889839463,(((32:0.03688888889,((5:0.01,8:0.01):0.01396825397,(37:0.01714285714,(62:0,(59:0,(50:0,(49:0,(3:0,6:0):0):0):0):0):0.01714285714):0.006825396825):0.01292063492):0.4344139434,(((73:0,99:0):0.05333333333,(27:0.02666666667,(38:0,51:0):0.02666666667):0.02666666667):0.3608823529,(((19:0.01,67:0.01):0.04,(95:0.01,100:0.01):0.04):0.2041666667,((92:0,(89:0,(87:0,(22:0,70:0):0):0):0):0.05416666667,(75:0.03333333333,(46:0.02,58:0.02):0.01333333333):0.02083333333):0.2):0.1600490196):0.05708714597):1.075564887,((((41:0.01,48:0.01):0.02916666667,(80:0.01733333333,(10:0.016,(63:0,(39:0,(7:0,12:0):0):0):0.016):0.001333333333):0.02183333333):0.09541666667,((65:0.01833333333,(30:0.01666666667,(1:0.01,54:0.01):0.006666666667):0.001666666667):0.06125,(25:0.05575757576,((4:0.02,74:0.02):0.03313131313,((72:0.01,85:0.01):0.03206349206,((86:0,(76:0,(66:0,(44:0,53:0):0):0):0):0.03571428571,(34:0.01,81:0.01):0.02571428571):0.006349206349):0.01106782107):0.002626262626):0.02382575758):0.055):0.4232442954,(((24:0.01714285714,(78:0,(35:0,(26:0,(23:0,(9:0,16:0):0):0):0):0):0.01714285714):0.09604761905,(98:0.018,(97:0.01666666667,(96:0.01333333333,(29:0,71:0):0.01333333333):0.003333333333):0.001333333333):0.09519047619):0.2461837004,((13:0.05166666667,(42:0.01333333333,(17:0,52:0):0.01333333333):0.03833333333):0.2074891775,((94:0.02666666667,(33:0,88:0):0.02666666667):0.08523809524,((68:0,77:0):0.03,(2:0.02,79:0.02):0.01):0.0819047619):0.1472510823):0.1002183324):0.1984534522):0.98904009):2.873391325);'"
      ],
      "text/plain": [
       "[1] \"(((15:0.03,(69:0,(47:0,55:0):0):0.03):0.5004195804,(((84:0.01666666667,(61:0.01,93:0.01):0.006666666667):0.08166666667,(60:0.01785714286,(40:0.01714285714,(90:0,(45:0,(31:0,(20:0,(11:0,18:0):0):0):0):0):0.01714285714):0.0007142857143):0.08047619048):0.1034848485,((43:0,57:0):0.1054545455,((91:0,(82:0,(28:0,56:0):0):0):0.048,(83:0.017,(36:0.015,(64:0,(14:0,21:0):0):0.015):0.002):0.031):0.05745454545):0.09636363636):0.3286013986):3.889839463,(((32:0.03688888889,((5:0.01,8:0.01):0.01396825397,(37:0.01714285714,(62:0,(59:0,(50:0,(49:0,(3:0,6:0):0):0):0):0):0.01714285714):0.006825396825):0.01292063492):0.4344139434,(((73:0,99:0):0.05333333333,(27:0.02666666667,(38:0,51:0):0.02666666667):0.02666666667):0.3608823529,(((19:0.01,67:0.01):0.04,(95:0.01,100:0.01):0.04):0.2041666667,((92:0,(89:0,(87:0,(22:0,70:0):0):0):0):0.05416666667,(75:0.03333333333,(46:0.02,58:0.02):0.01333333333):0.02083333333):0.2):0.1600490196):0.05708714597):1.075564887,((((41:0.01,48:0.01):0.02916666667,(80:0.01733333333,(10:0.016,(63:0,(39:0,(7:0,12:0):0):0):0.016):0.001333333333):0.02183333333):0.09541666667,((65:0.01833333333,(30:0.01666666667,(1:0.01,54:0.01):0.006666666667):0.001666666667):0.06125,(25:0.05575757576,((4:0.02,74:0.02):0.03313131313,((72:0.01,85:0.01):0.03206349206,((86:0,(76:0,(66:0,(44:0,53:0):0):0):0):0.03571428571,(34:0.01,81:0.01):0.02571428571):0.006349206349):0.01106782107):0.002626262626):0.02382575758):0.055):0.4232442954,(((24:0.01714285714,(78:0,(35:0,(26:0,(23:0,(9:0,16:0):0):0):0):0):0.01714285714):0.09604761905,(98:0.018,(97:0.01666666667,(96:0.01333333333,(29:0,71:0):0.01333333333):0.003333333333):0.001333333333):0.09519047619):0.2461837004,((13:0.05166666667,(42:0.01333333333,(17:0,52:0):0.01333333333):0.03833333333):0.2074891775,((94:0.02666666667,(33:0,88:0):0.02666666667):0.08523809524,((68:0,77:0):0.03,(2:0.02,79:0.02):0.01):0.0819047619):0.1472510823):0.1002183324):0.1984534522):0.98904009):2.873391325);\""
      ]
     },
     "metadata": {},
     "output_type": "display_data"
    }
   ],
   "source": [
    "write.tree(tree)"
   ]
  },
  {
   "cell_type": "markdown",
   "metadata": {
    "id": "ODg8CdFyxa0d"
   },
   "source": [
    "Now generate the _actual_ family tree of the simulation by running the cell below:"
   ]
  },
  {
   "cell_type": "code",
   "execution_count": 31,
   "metadata": {
    "colab": {
     "base_uri": "https://localhost:8080/",
     "height": 437
    },
    "id": "lNhFKsZIwXwc",
    "outputId": "378af4cc-7746-446c-c144-8151de70e629",
    "vscode": {
     "languageId": "r"
    }
   },
   "outputs": [
    {
     "data": {
      "image/png": "[encoded data removed]",
      "text/plain": [
       "plot without title"
      ]
     },
     "metadata": {
      "image/png": {
       "height": 420,
       "width": 420
      }
     },
     "output_type": "display_data"
    }
   ],
   "source": [
    "gold_standard_tree <- reconstruct_tree(parent_matrix)\n",
    "plot_tree(gold_standard_tree)"
   ]
  },
  {
   "cell_type": "markdown",
   "metadata": {
    "id": "Pb8bCnXWxpkK"
   },
   "source": [
    "Newick string for pasting into [icytree.org](https://icytree.org/):"
   ]
  },
  {
   "cell_type": "code",
   "execution_count": 32,
   "metadata": {
    "colab": {
     "base_uri": "https://localhost:8080/",
     "height": 69
    },
    "id": "SiCOgCwxxm-J",
    "outputId": "5b52c74f-5a27-4be1-e8b5-27f0afcbf14f",
    "vscode": {
     "languageId": "r"
    }
   },
   "outputs": [
    {
     "data": {
      "text/html": [
       "'(((((((84,93),(61)),((43,57),(((36),(21,64),(28,56,82,91)),(83),(14)))),(((18,60),(31,90)),((11,40),(20,45)))),((15),(47,55,69))),((((73,99),((27,38),(51))),((((22,70,87,89,92),((46),(58),(75))),(((67),(19)),(95,100))),((((32),(((59),((50),(6,62))),((8),(5)))),(49)),((37),(3))))),((((((33),(88)),(94)),((68,77),((79),(2)))),(((((16,24),(26)),((23,35,78),(9))),((29,71),((96),((98),(97))))),((((((44,53,66,76,86),(34,81)),((72),(85))),((25),(4,74))),((((10),(12,63)),((41,48),(7,39))),(80))),((54,65),(1),(30))))),((13),((17,52),(42)))))));'"
      ],
      "text/latex": [
       "'(((((((84,93),(61)),((43,57),(((36),(21,64),(28,56,82,91)),(83),(14)))),(((18,60),(31,90)),((11,40),(20,45)))),((15),(47,55,69))),((((73,99),((27,38),(51))),((((22,70,87,89,92),((46),(58),(75))),(((67),(19)),(95,100))),((((32),(((59),((50),(6,62))),((8),(5)))),(49)),((37),(3))))),((((((33),(88)),(94)),((68,77),((79),(2)))),(((((16,24),(26)),((23,35,78),(9))),((29,71),((96),((98),(97))))),((((((44,53,66,76,86),(34,81)),((72),(85))),((25),(4,74))),((((10),(12,63)),((41,48),(7,39))),(80))),((54,65),(1),(30))))),((13),((17,52),(42)))))));'"
      ],
      "text/markdown": [
       "'(((((((84,93),(61)),((43,57),(((36),(21,64),(28,56,82,91)),(83),(14)))),(((18,60),(31,90)),((11,40),(20,45)))),((15),(47,55,69))),((((73,99),((27,38),(51))),((((22,70,87,89,92),((46),(58),(75))),(((67),(19)),(95,100))),((((32),(((59),((50),(6,62))),((8),(5)))),(49)),((37),(3))))),((((((33),(88)),(94)),((68,77),((79),(2)))),(((((16,24),(26)),((23,35,78),(9))),((29,71),((96),((98),(97))))),((((((44,53,66,76,86),(34,81)),((72),(85))),((25),(4,74))),((((10),(12,63)),((41,48),(7,39))),(80))),((54,65),(1),(30))))),((13),((17,52),(42)))))));'"
      ],
      "text/plain": [
       "[1] \"(((((((84,93),(61)),((43,57),(((36),(21,64),(28,56,82,91)),(83),(14)))),(((18,60),(31,90)),((11,40),(20,45)))),((15),(47,55,69))),((((73,99),((27,38),(51))),((((22,70,87,89,92),((46),(58),(75))),(((67),(19)),(95,100))),((((32),(((59),((50),(6,62))),((8),(5)))),(49)),((37),(3))))),((((((33),(88)),(94)),((68,77),((79),(2)))),(((((16,24),(26)),((23,35,78),(9))),((29,71),((96),((98),(97))))),((((((44,53,66,76,86),(34,81)),((72),(85))),((25),(4,74))),((((10),(12,63)),((41,48),(7,39))),(80))),((54,65),(1),(30))))),((13),((17,52),(42)))))));\""
      ]
     },
     "metadata": {},
     "output_type": "display_data"
    }
   ],
   "source": [
    "print_tree(gold_standard_tree)"
   ]
  },
  {
   "cell_type": "markdown",
   "metadata": {
    "id": "liV-M3c_x4pZ"
   },
   "source": [
    "- <font color=\"green\"><b>Think:</b></font> How well does the reconstruction produced by the hierarchical clustering algorithm match the actual family tree?\n",
    "- <font color=\"green\"><b>Think:</b></font> How can you explain the differences between the reconstructed and the actual family tree?"
   ]
  },
  {
   "cell_type": "markdown",
   "metadata": {
    "id": "eaws5G1ays0M"
   },
   "source": [
    "## 5. Phylogenetic reconstruction of languages\n",
    "In the tutorial you have learned about features of language and music used in comparative research, and about variation across languages and musics. By studying some specific examples, you have seen that both languages and musical traditions are transmitted culturally, and are subject to a process of cultural evolution. In this final section of the computer lab, you will use the methods that we saw for phylogenetic tree reconstruction in the previous sections to reconstruct the cultural evolutionary history of languages."
   ]
  },
  {
   "cell_type": "markdown",
   "metadata": {
    "id": "0jvuJt5t0gWx"
   },
   "source": [
    "#### **Exercise 14: Languages in a tree, with UPGMA**"
   ]
  },
  {
   "cell_type": "markdown",
   "metadata": {
    "id": "wph5y2y_z9vt"
   },
   "source": [
    "We preprocessed a dataset for you so it can be loaded into R. To do this, run the following code cell:"
   ]
  },
  {
   "cell_type": "code",
   "execution_count": 15,
   "metadata": {
    "id": "hJ7oedt0xxlp",
    "vscode": {
     "languageId": "r"
    }
   },
   "outputs": [],
   "source": [
    "load(\"data/language_data.Rdata\")"
   ]
  },
  {
   "cell_type": "markdown",
   "metadata": {
    "id": "4-_6VKqC0N4Q"
   },
   "source": [
    "This will create an object called `mydata` containing the dataset. You can check the languages in the data as follows:"
   ]
  },
  {
   "cell_type": "code",
   "execution_count": 42,
   "metadata": {
    "colab": {
     "base_uri": "https://localhost:8080/",
     "height": 121
    },
    "id": "4k5XgrgD0NdD",
    "outputId": "e33a9307-479b-432b-8ee5-842a4fdf2012",
    "vscode": {
     "languageId": "r"
    }
   },
   "outputs": [
    {
     "data": {
      "text/html": [
       "<style>\n",
       ".list-inline {list-style: none; margin:0; padding: 0}\n",
       ".list-inline>li {display: inline-block}\n",
       ".list-inline>li:not(:last-child)::after {content: \"\\00b7\"; padding: 0 .5ex}\n",
       "</style>\n",
       "<ol class=list-inline><li>'Hittite'</li><li>'Luvian'</li><li>'Lycian'</li><li>'Tocharian_A'</li><li>'Tocharian_B'</li><li>'Albanian_C'</li><li>'Albanian_K'</li><li>'Albanian_G'</li><li>'Albanian_Top'</li><li>'Classical_Armenian'</li><li>'Armenian_List'</li><li>'Armenian_Mod'</li><li>'Ancient_Greek'</li><li>'Avestan'</li><li>'Old_Persian'</li><li>'Persian_List'</li><li>'Afghan'</li><li>'Wakhi'</li><li>'Baluchi'</li><li>'Waziri'</li><li>'Tadzik'</li><li>'Kurdish'</li><li>'Iron_Ossetic'</li><li>'Digor_Ossetic'</li><li>'Greek_Mod'</li><li>'Greek_ML'</li><li>'Vedic_Sanskrit'</li><li>'Nepali_List'</li><li>'Assamese'</li><li>'Oriya'</li><li>'Bengali'</li><li>'Bihari'</li><li>'Marwari'</li><li>'Hindi'</li><li>'Urdu'</li><li>'Sindhi'</li><li>'Lahnda'</li><li>'Gujarati'</li><li>'Marathi'</li><li>'Kashmiri'</li><li>'Singhalese'</li><li>'Romani'</li><li>'Serbocroatian'</li><li>'Bulgarian'</li><li>'Macedonian'</li><li>'Russian'</li><li>'Polish'</li><li>'Byelorussian'</li><li>'Ukrainian'</li><li>'Czech_E'</li><li>'Slovak'</li><li>'Czech'</li><li>'Lusatian_U'</li><li>'Lusatian_L'</li><li>'Slovenian'</li><li>'Old_Church_Slavonic'</li><li>'Old_Prussian'</li><li>'Latvian'</li><li>'Lithuanian_ST'</li><li>'Faroese'</li><li>'Icelandic_ST'</li><li>'Riksmal'</li><li>'Danish'</li><li>'Swedish_List'</li><li>'Swedish_VL'</li><li>'Swedish_Up'</li><li>'Old_Norse'</li><li>'Old_High_German'</li><li>'Old_English'</li><li>'English_ST'</li><li>'Frisian'</li><li>'Flemish'</li><li>'Dutch_List'</li><li>'Luxembourgish'</li><li>'German_ST'</li><li>'Gothic'</li><li>'Catalan'</li><li>'Portuguese_ST'</li><li>'Spanish'</li><li>'Sardinian_C'</li><li>'Sardinian_L'</li><li>'Sardinian_N'</li><li>'Walloon'</li><li>'French'</li><li>'Provencal'</li><li>'Ladin'</li><li>'Romansh'</li><li>'Friulian'</li><li>'Italian'</li><li>'Romanian_List'</li><li>'Vlach'</li><li>'Latin'</li><li>'Oscan'</li><li>'Umbrian'</li><li>'Old_Irish'</li><li>'Cornish'</li><li>'Breton_ST'</li><li>'Breton_SE'</li><li>'Breton_List'</li><li>'Welsh_C'</li><li>'Welsh_N'</li><li>'Irish_A'</li><li>'Scots_Gaelic'</li></ol>\n"
      ],
      "text/latex": [
       "\\begin{enumerate*}\n",
       "\\item 'Hittite'\n",
       "\\item 'Luvian'\n",
       "\\item 'Lycian'\n",
       "\\item 'Tocharian\\_A'\n",
       "\\item 'Tocharian\\_B'\n",
       "\\item 'Albanian\\_C'\n",
       "\\item 'Albanian\\_K'\n",
       "\\item 'Albanian\\_G'\n",
       "\\item 'Albanian\\_Top'\n",
       "\\item 'Classical\\_Armenian'\n",
       "\\item 'Armenian\\_List'\n",
       "\\item 'Armenian\\_Mod'\n",
       "\\item 'Ancient\\_Greek'\n",
       "\\item 'Avestan'\n",
       "\\item 'Old\\_Persian'\n",
       "\\item 'Persian\\_List'\n",
       "\\item 'Afghan'\n",
       "\\item 'Wakhi'\n",
       "\\item 'Baluchi'\n",
       "\\item 'Waziri'\n",
       "\\item 'Tadzik'\n",
       "\\item 'Kurdish'\n",
       "\\item 'Iron\\_Ossetic'\n",
       "\\item 'Digor\\_Ossetic'\n",
       "\\item 'Greek\\_Mod'\n",
       "\\item 'Greek\\_ML'\n",
       "\\item 'Vedic\\_Sanskrit'\n",
       "\\item 'Nepali\\_List'\n",
       "\\item 'Assamese'\n",
       "\\item 'Oriya'\n",
       "\\item 'Bengali'\n",
       "\\item 'Bihari'\n",
       "\\item 'Marwari'\n",
       "\\item 'Hindi'\n",
       "\\item 'Urdu'\n",
       "\\item 'Sindhi'\n",
       "\\item 'Lahnda'\n",
       "\\item 'Gujarati'\n",
       "\\item 'Marathi'\n",
       "\\item 'Kashmiri'\n",
       "\\item 'Singhalese'\n",
       "\\item 'Romani'\n",
       "\\item 'Serbocroatian'\n",
       "\\item 'Bulgarian'\n",
       "\\item 'Macedonian'\n",
       "\\item 'Russian'\n",
       "\\item 'Polish'\n",
       "\\item 'Byelorussian'\n",
       "\\item 'Ukrainian'\n",
       "\\item 'Czech\\_E'\n",
       "\\item 'Slovak'\n",
       "\\item 'Czech'\n",
       "\\item 'Lusatian\\_U'\n",
       "\\item 'Lusatian\\_L'\n",
       "\\item 'Slovenian'\n",
       "\\item 'Old\\_Church\\_Slavonic'\n",
       "\\item 'Old\\_Prussian'\n",
       "\\item 'Latvian'\n",
       "\\item 'Lithuanian\\_ST'\n",
       "\\item 'Faroese'\n",
       "\\item 'Icelandic\\_ST'\n",
       "\\item 'Riksmal'\n",
       "\\item 'Danish'\n",
       "\\item 'Swedish\\_List'\n",
       "\\item 'Swedish\\_VL'\n",
       "\\item 'Swedish\\_Up'\n",
       "\\item 'Old\\_Norse'\n",
       "\\item 'Old\\_High\\_German'\n",
       "\\item 'Old\\_English'\n",
       "\\item 'English\\_ST'\n",
       "\\item 'Frisian'\n",
       "\\item 'Flemish'\n",
       "\\item 'Dutch\\_List'\n",
       "\\item 'Luxembourgish'\n",
       "\\item 'German\\_ST'\n",
       "\\item 'Gothic'\n",
       "\\item 'Catalan'\n",
       "\\item 'Portuguese\\_ST'\n",
       "\\item 'Spanish'\n",
       "\\item 'Sardinian\\_C'\n",
       "\\item 'Sardinian\\_L'\n",
       "\\item 'Sardinian\\_N'\n",
       "\\item 'Walloon'\n",
       "\\item 'French'\n",
       "\\item 'Provencal'\n",
       "\\item 'Ladin'\n",
       "\\item 'Romansh'\n",
       "\\item 'Friulian'\n",
       "\\item 'Italian'\n",
       "\\item 'Romanian\\_List'\n",
       "\\item 'Vlach'\n",
       "\\item 'Latin'\n",
       "\\item 'Oscan'\n",
       "\\item 'Umbrian'\n",
       "\\item 'Old\\_Irish'\n",
       "\\item 'Cornish'\n",
       "\\item 'Breton\\_ST'\n",
       "\\item 'Breton\\_SE'\n",
       "\\item 'Breton\\_List'\n",
       "\\item 'Welsh\\_C'\n",
       "\\item 'Welsh\\_N'\n",
       "\\item 'Irish\\_A'\n",
       "\\item 'Scots\\_Gaelic'\n",
       "\\end{enumerate*}\n"
      ],
      "text/markdown": [
       "1. 'Hittite'\n",
       "2. 'Luvian'\n",
       "3. 'Lycian'\n",
       "4. 'Tocharian_A'\n",
       "5. 'Tocharian_B'\n",
       "6. 'Albanian_C'\n",
       "7. 'Albanian_K'\n",
       "8. 'Albanian_G'\n",
       "9. 'Albanian_Top'\n",
       "10. 'Classical_Armenian'\n",
       "11. 'Armenian_List'\n",
       "12. 'Armenian_Mod'\n",
       "13. 'Ancient_Greek'\n",
       "14. 'Avestan'\n",
       "15. 'Old_Persian'\n",
       "16. 'Persian_List'\n",
       "17. 'Afghan'\n",
       "18. 'Wakhi'\n",
       "19. 'Baluchi'\n",
       "20. 'Waziri'\n",
       "21. 'Tadzik'\n",
       "22. 'Kurdish'\n",
       "23. 'Iron_Ossetic'\n",
       "24. 'Digor_Ossetic'\n",
       "25. 'Greek_Mod'\n",
       "26. 'Greek_ML'\n",
       "27. 'Vedic_Sanskrit'\n",
       "28. 'Nepali_List'\n",
       "29. 'Assamese'\n",
       "30. 'Oriya'\n",
       "31. 'Bengali'\n",
       "32. 'Bihari'\n",
       "33. 'Marwari'\n",
       "34. 'Hindi'\n",
       "35. 'Urdu'\n",
       "36. 'Sindhi'\n",
       "37. 'Lahnda'\n",
       "38. 'Gujarati'\n",
       "39. 'Marathi'\n",
       "40. 'Kashmiri'\n",
       "41. 'Singhalese'\n",
       "42. 'Romani'\n",
       "43. 'Serbocroatian'\n",
       "44. 'Bulgarian'\n",
       "45. 'Macedonian'\n",
       "46. 'Russian'\n",
       "47. 'Polish'\n",
       "48. 'Byelorussian'\n",
       "49. 'Ukrainian'\n",
       "50. 'Czech_E'\n",
       "51. 'Slovak'\n",
       "52. 'Czech'\n",
       "53. 'Lusatian_U'\n",
       "54. 'Lusatian_L'\n",
       "55. 'Slovenian'\n",
       "56. 'Old_Church_Slavonic'\n",
       "57. 'Old_Prussian'\n",
       "58. 'Latvian'\n",
       "59. 'Lithuanian_ST'\n",
       "60. 'Faroese'\n",
       "61. 'Icelandic_ST'\n",
       "62. 'Riksmal'\n",
       "63. 'Danish'\n",
       "64. 'Swedish_List'\n",
       "65. 'Swedish_VL'\n",
       "66. 'Swedish_Up'\n",
       "67. 'Old_Norse'\n",
       "68. 'Old_High_German'\n",
       "69. 'Old_English'\n",
       "70. 'English_ST'\n",
       "71. 'Frisian'\n",
       "72. 'Flemish'\n",
       "73. 'Dutch_List'\n",
       "74. 'Luxembourgish'\n",
       "75. 'German_ST'\n",
       "76. 'Gothic'\n",
       "77. 'Catalan'\n",
       "78. 'Portuguese_ST'\n",
       "79. 'Spanish'\n",
       "80. 'Sardinian_C'\n",
       "81. 'Sardinian_L'\n",
       "82. 'Sardinian_N'\n",
       "83. 'Walloon'\n",
       "84. 'French'\n",
       "85. 'Provencal'\n",
       "86. 'Ladin'\n",
       "87. 'Romansh'\n",
       "88. 'Friulian'\n",
       "89. 'Italian'\n",
       "90. 'Romanian_List'\n",
       "91. 'Vlach'\n",
       "92. 'Latin'\n",
       "93. 'Oscan'\n",
       "94. 'Umbrian'\n",
       "95. 'Old_Irish'\n",
       "96. 'Cornish'\n",
       "97. 'Breton_ST'\n",
       "98. 'Breton_SE'\n",
       "99. 'Breton_List'\n",
       "100. 'Welsh_C'\n",
       "101. 'Welsh_N'\n",
       "102. 'Irish_A'\n",
       "103. 'Scots_Gaelic'\n",
       "\n",
       "\n"
      ],
      "text/plain": [
       "  [1] \"Hittite\"             \"Luvian\"              \"Lycian\"             \n",
       "  [4] \"Tocharian_A\"         \"Tocharian_B\"         \"Albanian_C\"         \n",
       "  [7] \"Albanian_K\"          \"Albanian_G\"          \"Albanian_Top\"       \n",
       " [10] \"Classical_Armenian\"  \"Armenian_List\"       \"Armenian_Mod\"       \n",
       " [13] \"Ancient_Greek\"       \"Avestan\"             \"Old_Persian\"        \n",
       " [16] \"Persian_List\"        \"Afghan\"              \"Wakhi\"              \n",
       " [19] \"Baluchi\"             \"Waziri\"              \"Tadzik\"             \n",
       " [22] \"Kurdish\"             \"Iron_Ossetic\"        \"Digor_Ossetic\"      \n",
       " [25] \"Greek_Mod\"           \"Greek_ML\"            \"Vedic_Sanskrit\"     \n",
       " [28] \"Nepali_List\"         \"Assamese\"            \"Oriya\"              \n",
       " [31] \"Bengali\"             \"Bihari\"              \"Marwari\"            \n",
       " [34] \"Hindi\"               \"Urdu\"                \"Sindhi\"             \n",
       " [37] \"Lahnda\"              \"Gujarati\"            \"Marathi\"            \n",
       " [40] \"Kashmiri\"            \"Singhalese\"          \"Romani\"             \n",
       " [43] \"Serbocroatian\"       \"Bulgarian\"           \"Macedonian\"         \n",
       " [46] \"Russian\"             \"Polish\"              \"Byelorussian\"       \n",
       " [49] \"Ukrainian\"           \"Czech_E\"             \"Slovak\"             \n",
       " [52] \"Czech\"               \"Lusatian_U\"          \"Lusatian_L\"         \n",
       " [55] \"Slovenian\"           \"Old_Church_Slavonic\" \"Old_Prussian\"       \n",
       " [58] \"Latvian\"             \"Lithuanian_ST\"       \"Faroese\"            \n",
       " [61] \"Icelandic_ST\"        \"Riksmal\"             \"Danish\"             \n",
       " [64] \"Swedish_List\"        \"Swedish_VL\"          \"Swedish_Up\"         \n",
       " [67] \"Old_Norse\"           \"Old_High_German\"     \"Old_English\"        \n",
       " [70] \"English_ST\"          \"Frisian\"             \"Flemish\"            \n",
       " [73] \"Dutch_List\"          \"Luxembourgish\"       \"German_ST\"          \n",
       " [76] \"Gothic\"              \"Catalan\"             \"Portuguese_ST\"      \n",
       " [79] \"Spanish\"             \"Sardinian_C\"         \"Sardinian_L\"        \n",
       " [82] \"Sardinian_N\"         \"Walloon\"             \"French\"             \n",
       " [85] \"Provencal\"           \"Ladin\"               \"Romansh\"            \n",
       " [88] \"Friulian\"            \"Italian\"             \"Romanian_List\"      \n",
       " [91] \"Vlach\"               \"Latin\"               \"Oscan\"              \n",
       " [94] \"Umbrian\"             \"Old_Irish\"           \"Cornish\"            \n",
       " [97] \"Breton_ST\"           \"Breton_SE\"           \"Breton_List\"        \n",
       "[100] \"Welsh_C\"             \"Welsh_N\"             \"Irish_A\"            \n",
       "[103] \"Scots_Gaelic\"       "
      ]
     },
     "metadata": {},
     "output_type": "display_data"
    }
   ],
   "source": [
    "names(mydata)"
   ]
  },
  {
   "cell_type": "markdown",
   "metadata": {
    "id": "m2iUt6S50rzC"
   },
   "source": [
    "- <font color=\"orange\"><b>Code/Do:</b></font> Choose a subset of the list of languages. We will initially build a phylogenetic tree of this subset. Define your subset with the subset function. For instance, if you want to select languages 13, 14, 15, 63 and 71 you type:"
   ]
  },
  {
   "cell_type": "code",
   "execution_count": 43,
   "metadata": {
    "id": "tPC0F_6AzU06",
    "vscode": {
     "languageId": "r"
    }
   },
   "outputs": [],
   "source": [
    "mysubset <- subset(mydata, c(13:15,63,71))"
   ]
  },
  {
   "cell_type": "markdown",
   "metadata": {
    "id": "OgCrgan701Z5"
   },
   "source": [
    "Create a distance matrix of your subset, by letting the computer count the number of feature values that differ between two languages (“hamming distance”):"
   ]
  },
  {
   "cell_type": "code",
   "execution_count": 44,
   "metadata": {
    "id": "8RZwaWMkzuW5",
    "vscode": {
     "languageId": "r"
    }
   },
   "outputs": [],
   "source": [
    "distance_matrix <- dist.hamming(mysubset)"
   ]
  },
  {
   "cell_type": "markdown",
   "metadata": {
    "id": "HsTiNIsh077e"
   },
   "source": [
    "Pick your favourite clustering algorithm and method and generate a tree:"
   ]
  },
  {
   "cell_type": "code",
   "execution_count": 45,
   "metadata": {
    "id": "zQVM8YFdzvku",
    "vscode": {
     "languageId": "r"
    }
   },
   "outputs": [],
   "source": [
    "tree <- upgma(distance_matrix, method='ward.D')"
   ]
  },
  {
   "cell_type": "markdown",
   "metadata": {
    "id": "e4AwEkFB1GjM"
   },
   "source": [
    "Plot your tree:"
   ]
  },
  {
   "cell_type": "code",
   "execution_count": 46,
   "metadata": {
    "colab": {
     "base_uri": "https://localhost:8080/",
     "height": 437
    },
    "id": "n25TsGXO1A4w",
    "outputId": "288f2551-e866-4f25-eded-49d743633a74",
    "vscode": {
     "languageId": "r"
    }
   },
   "outputs": [
    {
     "data": {
      "image/png": "[encoded data removed]",
      "text/plain": [
       "plot without title"
      ]
     },
     "metadata": {
      "image/png": {
       "height": 420,
       "width": 420
      }
     },
     "output_type": "display_data"
    }
   ],
   "source": [
    "plot(tree, use.edge.length=FALSE, cex=2)"
   ]
  },
  {
   "cell_type": "markdown",
   "metadata": {
    "id": "yfzfpjKJ10fx"
   },
   "source": [
    "- <font color=\"orange\"><b>Code:</b></font> In the code cell below, do the same thing for the entire dataset (i.e. compute the distance matrix, run UPGMA, plot the tree). You might want to adapt the `cex` parameter in the plot function, that sets the font size. Be aware of the influence the clustering algorithm and method for computing the distances between clusters can have."
   ]
  },
  {
   "cell_type": "code",
   "execution_count": 47,
   "metadata": {
    "id": "_0NhCGFz1DZE",
    "vscode": {
     "languageId": "r"
    }
   },
   "outputs": [],
   "source": [
    "### YOUR CODE HERE ###\n"
   ]
  },
  {
   "cell_type": "markdown",
   "metadata": {
    "id": "q3GKhsG52fPF"
   },
   "source": [
    "After generating the tree above, you can use the following again to get the Newick string to paste into [icytree.org](https://icytree.org/):"
   ]
  },
  {
   "cell_type": "code",
   "execution_count": null,
   "metadata": {
    "colab": {
     "base_uri": "https://localhost:8080/",
     "height": 34
    },
    "id": "FNsYlNOd2gC1",
    "outputId": "846b6b73-f605-4a0c-e34a-064c3e1409f1",
    "vscode": {
     "languageId": "r"
    }
   },
   "outputs": [],
   "source": [
    "write.tree(tree)"
   ]
  },
  {
   "cell_type": "markdown",
   "metadata": {
    "id": "Xl2s6O9M2EZI"
   },
   "source": [
    "- <font color=\"green\"><b>Think:</b></font> What are the nine main language families you can distinguish within the Indo-European family, and in which regions of the world are they spoken (before colonial times)?"
   ]
  },
  {
   "cell_type": "markdown",
   "metadata": {
    "id": "oHdoGJUv2J2-"
   },
   "source": [
    "> [ Your answer here ]"
   ]
  }
 ],
 "metadata": {
  "colab": {
   "collapsed_sections": [
    "456xa0h2O7Oi"
   ],
   "name": "Evolution & phylogenetic reconstruction",
   "provenance": []
  },
  "kernelspec": {
   "display_name": "R",
   "language": "R",
   "name": "ir"
  },
  "language_info": {
   "codemirror_mode": "r",
   "file_extension": ".r",
   "mimetype": "text/x-r-source",
   "name": "R",
   "pygments_lexer": "r",
   "version": "4.1.3"
  }
 },
 "nbformat": 4,
 "nbformat_minor": 4
}
